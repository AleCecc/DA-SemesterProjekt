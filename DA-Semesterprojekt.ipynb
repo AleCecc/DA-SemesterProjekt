{
 "cells": [
  {
   "cell_type": "code",
   "execution_count": 2,
   "id": "c973e10c",
   "metadata": {},
   "outputs": [],
   "source": [
    "# Libraries\n",
    "import os\n",
    "import re\n",
    "import time\n",
    "import fnmatch\n",
    "import numpy as np\n",
    "import pandas as pd\n",
    "# import mysql.connector\n",
    "import matplotlib.pyplot as plt\n",
    "df = pd.read_csv('zurich.csv', sep=',', encoding='utf-8')"
   ]
  },
  {
   "cell_type": "code",
   "execution_count": 3,
   "id": "1815e6c6",
   "metadata": {},
   "outputs": [
    {
     "name": "stdout",
     "output_type": "stream",
     "text": [
      "    web-scraper-order                              web-scraper-start-url  \\\n",
      "0        1671226171-1  https://www.autolina.ch/carList/page/10?region=ZH   \n",
      "1        1671226171-2  https://www.autolina.ch/carList/page/10?region=ZH   \n",
      "2        1671226171-3  https://www.autolina.ch/carList/page/10?region=ZH   \n",
      "3        1671226171-4  https://www.autolina.ch/carList/page/10?region=ZH   \n",
      "4        1671226171-5  https://www.autolina.ch/carList/page/10?region=ZH   \n",
      "..                ...                                                ...   \n",
      "145    1671226208-146   https://www.autolina.ch/carList/page/1?region=ZH   \n",
      "146    1671226208-147   https://www.autolina.ch/carList/page/1?region=ZH   \n",
      "147    1671226208-148   https://www.autolina.ch/carList/page/1?region=ZH   \n",
      "148    1671226208-149   https://www.autolina.ch/carList/page/1?region=ZH   \n",
      "149    1671226208-150   https://www.autolina.ch/carList/page/1?region=ZH   \n",
      "\n",
      "      brand_raw  year_raw   km_raw  ps_raw                place_raw price_raw  \n",
      "0    ALFA ROMEO    2015.0    2'300   241.0     8408 Winterthur / ZH   109'900  \n",
      "1         SKODA    2021.0    7'000   110.0          8712 Stäfa / ZH    29'450  \n",
      "2    ALFA ROMEO    2021.0   22'927   281.0     8408 Winterthur / ZH    55'790  \n",
      "3    ALFA ROMEO    2021.0   21'700   281.0     8408 Winterthur / ZH    53'790  \n",
      "4    ALFA ROMEO    2021.0   26'000   281.0     8408 Winterthur / ZH    53'790  \n",
      "..          ...       ...      ...     ...                      ...       ...  \n",
      "145        FORD    2021.0   11'510   185.0     8404 Winterthur / ZH    75'000  \n",
      "146          VW    2018.0   43'000   150.0          8610 Uster / ZH    25'800  \n",
      "147          VW    2010.0  118'000   240.0         8180 Bülach / ZH    23'990  \n",
      "148        FORD    2011.0  202'000    85.0  8165 Schöfflisdorf / ZH     7'000  \n",
      "149        FORD    2018.0   69'950   125.0            8196 Wil / ZH    16'800  \n",
      "\n",
      "[150 rows x 8 columns]\n"
     ]
    },
    {
     "data": {
      "text/plain": [
       "web-scraper-order         object\n",
       "web-scraper-start-url     object\n",
       "brand_raw                 object\n",
       "year_raw                 float64\n",
       "km_raw                    object\n",
       "ps_raw                   float64\n",
       "place_raw                 object\n",
       "price_raw                 object\n",
       "dtype: object"
      ]
     },
     "execution_count": 3,
     "metadata": {},
     "output_type": "execute_result"
    }
   ],
   "source": [
    "print(df)\n",
    "df.dtypes"
   ]
  },
  {
   "cell_type": "code",
   "execution_count": 4,
   "id": "812c08e7",
   "metadata": {},
   "outputs": [
    {
     "name": "stdout",
     "output_type": "stream",
     "text": [
      "    web-scraper-order                              web-scraper-start-url  \\\n",
      "0        1671226171-1  https://www.autolina.ch/carList/page/10?region=ZH   \n",
      "1        1671226171-2  https://www.autolina.ch/carList/page/10?region=ZH   \n",
      "2        1671226171-3  https://www.autolina.ch/carList/page/10?region=ZH   \n",
      "3        1671226171-4  https://www.autolina.ch/carList/page/10?region=ZH   \n",
      "4        1671226171-5  https://www.autolina.ch/carList/page/10?region=ZH   \n",
      "..                ...                                                ...   \n",
      "145    1671226208-146   https://www.autolina.ch/carList/page/1?region=ZH   \n",
      "146    1671226208-147   https://www.autolina.ch/carList/page/1?region=ZH   \n",
      "147    1671226208-148   https://www.autolina.ch/carList/page/1?region=ZH   \n",
      "148    1671226208-149   https://www.autolina.ch/carList/page/1?region=ZH   \n",
      "149    1671226208-150   https://www.autolina.ch/carList/page/1?region=ZH   \n",
      "\n",
      "      brand_raw  year_raw  km_raw  ps_raw                place_raw price_raw  \n",
      "0    ALFA ROMEO    2015.0    2300   241.0     8408 Winterthur / ZH    109900  \n",
      "1         SKODA    2021.0    7000   110.0          8712 Stäfa / ZH     29450  \n",
      "2    ALFA ROMEO    2021.0   22927   281.0     8408 Winterthur / ZH     55790  \n",
      "3    ALFA ROMEO    2021.0   21700   281.0     8408 Winterthur / ZH     53790  \n",
      "4    ALFA ROMEO    2021.0   26000   281.0     8408 Winterthur / ZH     53790  \n",
      "..          ...       ...     ...     ...                      ...       ...  \n",
      "145        FORD    2021.0   11510   185.0     8404 Winterthur / ZH     75000  \n",
      "146          VW    2018.0   43000   150.0          8610 Uster / ZH     25800  \n",
      "147          VW    2010.0  118000   240.0         8180 Bülach / ZH     23990  \n",
      "148        FORD    2011.0  202000    85.0  8165 Schöfflisdorf / ZH      7000  \n",
      "149        FORD    2018.0   69950   125.0            8196 Wil / ZH     16800  \n",
      "\n",
      "[150 rows x 8 columns]\n"
     ]
    }
   ],
   "source": [
    "df=df.astype({'km_raw':'string'})\n",
    "df['price_raw']=df['price_raw'].str.replace(\"'\", \"\")\n",
    "df['km_raw']=df['km_raw'].str.replace(\"'\", \"\")\n",
    "print(df)"
   ]
  },
  {
   "cell_type": "code",
   "execution_count": 5,
   "id": "7971c3c0",
   "metadata": {},
   "outputs": [
    {
     "name": "stdout",
     "output_type": "stream",
     "text": [
      "    web-scraper-order                              web-scraper-start-url  \\\n",
      "0        1671226171-1  https://www.autolina.ch/carList/page/10?region=ZH   \n",
      "1        1671226171-2  https://www.autolina.ch/carList/page/10?region=ZH   \n",
      "2        1671226171-3  https://www.autolina.ch/carList/page/10?region=ZH   \n",
      "3        1671226171-4  https://www.autolina.ch/carList/page/10?region=ZH   \n",
      "4        1671226171-5  https://www.autolina.ch/carList/page/10?region=ZH   \n",
      "..                ...                                                ...   \n",
      "145    1671226208-146   https://www.autolina.ch/carList/page/1?region=ZH   \n",
      "146    1671226208-147   https://www.autolina.ch/carList/page/1?region=ZH   \n",
      "147    1671226208-148   https://www.autolina.ch/carList/page/1?region=ZH   \n",
      "148    1671226208-149   https://www.autolina.ch/carList/page/1?region=ZH   \n",
      "149    1671226208-150   https://www.autolina.ch/carList/page/1?region=ZH   \n",
      "\n",
      "      brand_raw  year_raw  km_raw  ps_raw                place_raw  price_raw  \n",
      "0    ALFA ROMEO    2015.0    2300     241     8408 Winterthur / ZH     109900  \n",
      "1         SKODA    2021.0    7000     110          8712 Stäfa / ZH      29450  \n",
      "2    ALFA ROMEO    2021.0   22927     281     8408 Winterthur / ZH      55790  \n",
      "3    ALFA ROMEO    2021.0   21700     281     8408 Winterthur / ZH      53790  \n",
      "4    ALFA ROMEO    2021.0   26000     281     8408 Winterthur / ZH      53790  \n",
      "..          ...       ...     ...     ...                      ...        ...  \n",
      "145        FORD    2021.0   11510     185     8404 Winterthur / ZH      75000  \n",
      "146          VW    2018.0   43000     150          8610 Uster / ZH      25800  \n",
      "147          VW    2010.0  118000     240         8180 Bülach / ZH      23990  \n",
      "148        FORD    2011.0  202000      85  8165 Schöfflisdorf / ZH       7000  \n",
      "149        FORD    2018.0   69950     125            8196 Wil / ZH      16800  \n",
      "\n",
      "[134 rows x 8 columns]\n"
     ]
    }
   ],
   "source": [
    "#DF Bereinigen\n",
    "df=df.dropna()\n",
    "df=df.astype({'price_raw':'int'})\n",
    "df=df.astype({'ps_raw':'int'})\n",
    "df=df.astype({'km_raw':'int'})\n",
    "print(df)"
   ]
  },
  {
   "cell_type": "code",
   "execution_count": 6,
   "id": "a43a67c0",
   "metadata": {},
   "outputs": [
    {
     "name": "stdout",
     "output_type": "stream",
     "text": [
      "      brand_raw  year_raw  km_raw  ps_raw                place_raw  price_raw\n",
      "0    ALFA ROMEO    2015.0    2300     241     8408 Winterthur / ZH     109900\n",
      "1         SKODA    2021.0    7000     110          8712 Stäfa / ZH      29450\n",
      "2    ALFA ROMEO    2021.0   22927     281     8408 Winterthur / ZH      55790\n",
      "3    ALFA ROMEO    2021.0   21700     281     8408 Winterthur / ZH      53790\n",
      "4    ALFA ROMEO    2021.0   26000     281     8408 Winterthur / ZH      53790\n",
      "..          ...       ...     ...     ...                      ...        ...\n",
      "145        FORD    2021.0   11510     185     8404 Winterthur / ZH      75000\n",
      "146          VW    2018.0   43000     150          8610 Uster / ZH      25800\n",
      "147          VW    2010.0  118000     240         8180 Bülach / ZH      23990\n",
      "148        FORD    2011.0  202000      85  8165 Schöfflisdorf / ZH       7000\n",
      "149        FORD    2018.0   69950     125            8196 Wil / ZH      16800\n",
      "\n",
      "[134 rows x 6 columns]\n"
     ]
    }
   ],
   "source": [
    "#DF nach ZH filtern\n",
    "df_clean=df[[\"brand_raw\",\"year_raw\", \"km_raw\",\"ps_raw\",\"place_raw\",\"price_raw\"]]\n",
    "df_zh=df_clean[df_clean['place_raw'].str.contains(\"ZH\")]\n",
    "df_zh=df_zh.drop_duplicates()\n",
    "print(df_zh)"
   ]
  },
  {
   "cell_type": "code",
   "execution_count": 7,
   "id": "8d021361",
   "metadata": {},
   "outputs": [
    {
     "data": {
      "text/html": [
       "<div>\n",
       "<style scoped>\n",
       "    .dataframe tbody tr th:only-of-type {\n",
       "        vertical-align: middle;\n",
       "    }\n",
       "\n",
       "    .dataframe tbody tr th {\n",
       "        vertical-align: top;\n",
       "    }\n",
       "\n",
       "    .dataframe thead th {\n",
       "        text-align: right;\n",
       "    }\n",
       "</style>\n",
       "<table border=\"1\" class=\"dataframe\">\n",
       "  <thead>\n",
       "    <tr style=\"text-align: right;\">\n",
       "      <th></th>\n",
       "      <th>year_raw</th>\n",
       "      <th>km_raw</th>\n",
       "      <th>ps_raw</th>\n",
       "      <th>price_raw</th>\n",
       "    </tr>\n",
       "  </thead>\n",
       "  <tbody>\n",
       "    <tr>\n",
       "      <th>count</th>\n",
       "      <td>134.000000</td>\n",
       "      <td>134.000000</td>\n",
       "      <td>134.000000</td>\n",
       "      <td>134.000000</td>\n",
       "    </tr>\n",
       "    <tr>\n",
       "      <th>mean</th>\n",
       "      <td>2016.201493</td>\n",
       "      <td>64733.970149</td>\n",
       "      <td>217.417910</td>\n",
       "      <td>37579.417910</td>\n",
       "    </tr>\n",
       "    <tr>\n",
       "      <th>std</th>\n",
       "      <td>9.145260</td>\n",
       "      <td>62634.660874</td>\n",
       "      <td>113.686503</td>\n",
       "      <td>27498.156174</td>\n",
       "    </tr>\n",
       "    <tr>\n",
       "      <th>min</th>\n",
       "      <td>1960.000000</td>\n",
       "      <td>0.000000</td>\n",
       "      <td>60.000000</td>\n",
       "      <td>5300.000000</td>\n",
       "    </tr>\n",
       "    <tr>\n",
       "      <th>25%</th>\n",
       "      <td>2015.000000</td>\n",
       "      <td>11932.500000</td>\n",
       "      <td>136.000000</td>\n",
       "      <td>20992.500000</td>\n",
       "    </tr>\n",
       "    <tr>\n",
       "      <th>50%</th>\n",
       "      <td>2018.500000</td>\n",
       "      <td>45850.000000</td>\n",
       "      <td>190.000000</td>\n",
       "      <td>29580.000000</td>\n",
       "    </tr>\n",
       "    <tr>\n",
       "      <th>75%</th>\n",
       "      <td>2021.000000</td>\n",
       "      <td>101250.000000</td>\n",
       "      <td>281.000000</td>\n",
       "      <td>49800.000000</td>\n",
       "    </tr>\n",
       "    <tr>\n",
       "      <th>max</th>\n",
       "      <td>2022.000000</td>\n",
       "      <td>249000.000000</td>\n",
       "      <td>586.000000</td>\n",
       "      <td>219500.000000</td>\n",
       "    </tr>\n",
       "  </tbody>\n",
       "</table>\n",
       "</div>"
      ],
      "text/plain": [
       "          year_raw         km_raw      ps_raw      price_raw\n",
       "count   134.000000     134.000000  134.000000     134.000000\n",
       "mean   2016.201493   64733.970149  217.417910   37579.417910\n",
       "std       9.145260   62634.660874  113.686503   27498.156174\n",
       "min    1960.000000       0.000000   60.000000    5300.000000\n",
       "25%    2015.000000   11932.500000  136.000000   20992.500000\n",
       "50%    2018.500000   45850.000000  190.000000   29580.000000\n",
       "75%    2021.000000  101250.000000  281.000000   49800.000000\n",
       "max    2022.000000  249000.000000  586.000000  219500.000000"
      ]
     },
     "execution_count": 7,
     "metadata": {},
     "output_type": "execute_result"
    }
   ],
   "source": [
    "df_zh.describe()"
   ]
  },
  {
   "cell_type": "code",
   "execution_count": 8,
   "id": "8397a221",
   "metadata": {},
   "outputs": [],
   "source": [
    "df_zh=df_zh.assign(Price_per_ps=df_zh[\"price_raw\"]/df_zh[\"ps_raw\"])"
   ]
  },
  {
   "cell_type": "code",
   "execution_count": 9,
   "id": "9da39841",
   "metadata": {},
   "outputs": [],
   "source": [
    "df_zh=df_zh.assign(km_per_year=df_zh[\"km_raw\"]/(2023-df_zh[\"year_raw\"]))"
   ]
  },
  {
   "cell_type": "code",
   "execution_count": 10,
   "id": "a056ad42",
   "metadata": {},
   "outputs": [
    {
     "name": "stdout",
     "output_type": "stream",
     "text": [
      "     year_raw  km_raw  ps_raw  price_raw   km_per_year  Price_per_ps\n",
      "0      2015.0    2300     241     109900    287.500000    456.016598\n",
      "1      2021.0    7000     110      29450   3500.000000    267.727273\n",
      "2      2021.0   22927     281      55790  11463.500000    198.540925\n",
      "3      2021.0   21700     281      53790  10850.000000    191.423488\n",
      "4      2021.0   26000     281      53790  13000.000000    191.423488\n",
      "..        ...     ...     ...        ...           ...           ...\n",
      "145    2021.0   11510     185      75000   5755.000000    405.405405\n",
      "146    2018.0   43000     150      25800   8600.000000    172.000000\n",
      "147    2010.0  118000     240      23990   9076.923077     99.958333\n",
      "148    2011.0  202000      85       7000  16833.333333     82.352941\n",
      "149    2018.0   69950     125      16800  13990.000000    134.400000\n",
      "\n",
      "[134 rows x 6 columns]\n"
     ]
    }
   ],
   "source": [
    "df_numeric=df_zh[[\"year_raw\", \"km_raw\",\"ps_raw\",\"price_raw\",\"km_per_year\",\"Price_per_ps\"]]\n",
    "print(df_numeric)"
   ]
  },
  {
   "cell_type": "code",
   "execution_count": 11,
   "id": "e089fd5b",
   "metadata": {},
   "outputs": [
    {
     "data": {
      "text/html": [
       "<div>\n",
       "<style scoped>\n",
       "    .dataframe tbody tr th:only-of-type {\n",
       "        vertical-align: middle;\n",
       "    }\n",
       "\n",
       "    .dataframe tbody tr th {\n",
       "        vertical-align: top;\n",
       "    }\n",
       "\n",
       "    .dataframe thead th {\n",
       "        text-align: right;\n",
       "    }\n",
       "</style>\n",
       "<table border=\"1\" class=\"dataframe\">\n",
       "  <thead>\n",
       "    <tr style=\"text-align: right;\">\n",
       "      <th></th>\n",
       "      <th>year_raw</th>\n",
       "      <th>km_raw</th>\n",
       "      <th>ps_raw</th>\n",
       "      <th>price_raw</th>\n",
       "      <th>km_per_year</th>\n",
       "      <th>Price_per_ps</th>\n",
       "    </tr>\n",
       "  </thead>\n",
       "  <tbody>\n",
       "    <tr>\n",
       "      <th>year_raw</th>\n",
       "      <td>1.000000</td>\n",
       "      <td>-0.391812</td>\n",
       "      <td>-0.003068</td>\n",
       "      <td>-0.003246</td>\n",
       "      <td>0.083656</td>\n",
       "      <td>-0.033654</td>\n",
       "    </tr>\n",
       "    <tr>\n",
       "      <th>km_raw</th>\n",
       "      <td>-0.391812</td>\n",
       "      <td>1.000000</td>\n",
       "      <td>0.118872</td>\n",
       "      <td>-0.379486</td>\n",
       "      <td>0.633610</td>\n",
       "      <td>-0.560214</td>\n",
       "    </tr>\n",
       "    <tr>\n",
       "      <th>ps_raw</th>\n",
       "      <td>-0.003068</td>\n",
       "      <td>0.118872</td>\n",
       "      <td>1.000000</td>\n",
       "      <td>0.519339</td>\n",
       "      <td>0.104299</td>\n",
       "      <td>-0.184732</td>\n",
       "    </tr>\n",
       "    <tr>\n",
       "      <th>price_raw</th>\n",
       "      <td>-0.003246</td>\n",
       "      <td>-0.379486</td>\n",
       "      <td>0.519339</td>\n",
       "      <td>1.000000</td>\n",
       "      <td>-0.222317</td>\n",
       "      <td>0.675299</td>\n",
       "    </tr>\n",
       "    <tr>\n",
       "      <th>km_per_year</th>\n",
       "      <td>0.083656</td>\n",
       "      <td>0.633610</td>\n",
       "      <td>0.104299</td>\n",
       "      <td>-0.222317</td>\n",
       "      <td>1.000000</td>\n",
       "      <td>-0.376288</td>\n",
       "    </tr>\n",
       "    <tr>\n",
       "      <th>Price_per_ps</th>\n",
       "      <td>-0.033654</td>\n",
       "      <td>-0.560214</td>\n",
       "      <td>-0.184732</td>\n",
       "      <td>0.675299</td>\n",
       "      <td>-0.376288</td>\n",
       "      <td>1.000000</td>\n",
       "    </tr>\n",
       "  </tbody>\n",
       "</table>\n",
       "</div>"
      ],
      "text/plain": [
       "              year_raw    km_raw    ps_raw  price_raw  km_per_year  \\\n",
       "year_raw      1.000000 -0.391812 -0.003068  -0.003246     0.083656   \n",
       "km_raw       -0.391812  1.000000  0.118872  -0.379486     0.633610   \n",
       "ps_raw       -0.003068  0.118872  1.000000   0.519339     0.104299   \n",
       "price_raw    -0.003246 -0.379486  0.519339   1.000000    -0.222317   \n",
       "km_per_year   0.083656  0.633610  0.104299  -0.222317     1.000000   \n",
       "Price_per_ps -0.033654 -0.560214 -0.184732   0.675299    -0.376288   \n",
       "\n",
       "              Price_per_ps  \n",
       "year_raw         -0.033654  \n",
       "km_raw           -0.560214  \n",
       "ps_raw           -0.184732  \n",
       "price_raw         0.675299  \n",
       "km_per_year      -0.376288  \n",
       "Price_per_ps      1.000000  "
      ]
     },
     "execution_count": 11,
     "metadata": {},
     "output_type": "execute_result"
    }
   ],
   "source": [
    "corr = df_numeric.corr()\n",
    "corr"
   ]
  },
  {
   "cell_type": "markdown",
   "id": "2969e3b7",
   "metadata": {},
   "source": [
    "# The horsepower and price correlate the most with each other. The least correlation has horepower and year. "
   ]
  },
  {
   "cell_type": "code",
   "execution_count": 12,
   "id": "f789e2f2",
   "metadata": {},
   "outputs": [
    {
     "data": {
      "text/html": [
       "<div>\n",
       "<style scoped>\n",
       "    .dataframe tbody tr th:only-of-type {\n",
       "        vertical-align: middle;\n",
       "    }\n",
       "\n",
       "    .dataframe tbody tr th {\n",
       "        vertical-align: top;\n",
       "    }\n",
       "\n",
       "    .dataframe thead th {\n",
       "        text-align: right;\n",
       "    }\n",
       "</style>\n",
       "<table border=\"1\" class=\"dataframe\">\n",
       "  <thead>\n",
       "    <tr style=\"text-align: right;\">\n",
       "      <th></th>\n",
       "      <th>year_raw</th>\n",
       "      <th>km_raw</th>\n",
       "      <th>ps_raw</th>\n",
       "      <th>price_raw</th>\n",
       "      <th>km_per_year</th>\n",
       "      <th>Price_per_ps</th>\n",
       "    </tr>\n",
       "  </thead>\n",
       "  <tbody>\n",
       "    <tr>\n",
       "      <th>year_raw</th>\n",
       "      <td>83.635787</td>\n",
       "      <td>-2.244339e+05</td>\n",
       "      <td>-3.190102e+00</td>\n",
       "      <td>-8.162202e+02</td>\n",
       "      <td>6.484608e+03</td>\n",
       "      <td>-3.053042e+01</td>\n",
       "    </tr>\n",
       "    <tr>\n",
       "      <th>km_raw</th>\n",
       "      <td>-224433.873639</td>\n",
       "      <td>3.923101e+09</td>\n",
       "      <td>8.464512e+05</td>\n",
       "      <td>-6.536029e+08</td>\n",
       "      <td>3.363792e+08</td>\n",
       "      <td>-3.480730e+06</td>\n",
       "    </tr>\n",
       "    <tr>\n",
       "      <th>ps_raw</th>\n",
       "      <td>-3.190102</td>\n",
       "      <td>8.464512e+05</td>\n",
       "      <td>1.292462e+04</td>\n",
       "      <td>1.623542e+06</td>\n",
       "      <td>1.005037e+05</td>\n",
       "      <td>-2.083303e+03</td>\n",
       "    </tr>\n",
       "    <tr>\n",
       "      <th>price_raw</th>\n",
       "      <td>-816.220177</td>\n",
       "      <td>-6.536029e+08</td>\n",
       "      <td>1.623542e+06</td>\n",
       "      <td>7.561486e+08</td>\n",
       "      <td>-5.181660e+07</td>\n",
       "      <td>1.842051e+06</td>\n",
       "    </tr>\n",
       "    <tr>\n",
       "      <th>km_per_year</th>\n",
       "      <td>6484.608476</td>\n",
       "      <td>3.363792e+08</td>\n",
       "      <td>1.005037e+05</td>\n",
       "      <td>-5.181660e+07</td>\n",
       "      <td>7.184304e+07</td>\n",
       "      <td>-3.163841e+05</td>\n",
       "    </tr>\n",
       "    <tr>\n",
       "      <th>Price_per_ps</th>\n",
       "      <td>-30.530424</td>\n",
       "      <td>-3.480730e+06</td>\n",
       "      <td>-2.083303e+03</td>\n",
       "      <td>1.842051e+06</td>\n",
       "      <td>-3.163841e+05</td>\n",
       "      <td>9.840198e+03</td>\n",
       "    </tr>\n",
       "  </tbody>\n",
       "</table>\n",
       "</div>"
      ],
      "text/plain": [
       "                   year_raw        km_raw        ps_raw     price_raw  \\\n",
       "year_raw          83.635787 -2.244339e+05 -3.190102e+00 -8.162202e+02   \n",
       "km_raw       -224433.873639  3.923101e+09  8.464512e+05 -6.536029e+08   \n",
       "ps_raw            -3.190102  8.464512e+05  1.292462e+04  1.623542e+06   \n",
       "price_raw       -816.220177 -6.536029e+08  1.623542e+06  7.561486e+08   \n",
       "km_per_year     6484.608476  3.363792e+08  1.005037e+05 -5.181660e+07   \n",
       "Price_per_ps     -30.530424 -3.480730e+06 -2.083303e+03  1.842051e+06   \n",
       "\n",
       "               km_per_year  Price_per_ps  \n",
       "year_raw      6.484608e+03 -3.053042e+01  \n",
       "km_raw        3.363792e+08 -3.480730e+06  \n",
       "ps_raw        1.005037e+05 -2.083303e+03  \n",
       "price_raw    -5.181660e+07  1.842051e+06  \n",
       "km_per_year   7.184304e+07 -3.163841e+05  \n",
       "Price_per_ps -3.163841e+05  9.840198e+03  "
      ]
     },
     "execution_count": 12,
     "metadata": {},
     "output_type": "execute_result"
    }
   ],
   "source": [
    "cov = df_numeric.cov()\n",
    "cov\n",
    "\n"
   ]
  },
  {
   "cell_type": "markdown",
   "id": "b89e07fc",
   "metadata": {},
   "source": [
    "# The strongest negative covariance has kilometers and year. That means the more kilometers a car has the less expensive it is. \n"
   ]
  },
  {
   "cell_type": "code",
   "execution_count": 13,
   "id": "0317e922",
   "metadata": {},
   "outputs": [
    {
     "data": {
      "image/png": "[encoded data removed]",
      "text/plain": [
       "<Figure size 700x400 with 1 Axes>"
      ]
     },
     "metadata": {},
     "output_type": "display_data"
    }
   ],
   "source": [
    "x= df['ps_raw']\n",
    "y= df['price_raw']\n",
    "\n",
    "fig = plt.figure(figsize=(7,4))\n",
    "plt.scatter(x, y, color=\"green\")\n",
    "plt.title('Prices compared with hp', fontsize=15)\n",
    "plt.xlabel('horsepower', fontsize=10)\n",
    "plt.ylabel('cost in Fr', fontsize=10)\n",
    "plt.xticks(fontsize=10)\n",
    "plt.yticks(fontsize=10)\n",
    "#plt.ylim([0,200000])\n",
    "plt.show()"
   ]
  },
  {
   "cell_type": "markdown",
   "id": "e41f7e5c",
   "metadata": {},
   "source": [
    "🤌🤌🤌🤌🤌🤌🤌🤌🤌"
   ]
  },
  {
   "cell_type": "code",
   "execution_count": 14,
   "id": "5f27587c",
   "metadata": {},
   "outputs": [
    {
     "data": {
      "image/png": "[encoded data removed]",
      "text/plain": [
       "<Figure size 700x400 with 1 Axes>"
      ]
     },
     "metadata": {},
     "output_type": "display_data"
    }
   ],
   "source": [
    "# Plot Histogram\n",
    "fig = plt.figure( figsize=(7,4))\n",
    "plt.xticks(fontsize=14, rotation=0)\n",
    "plt.yticks(fontsize=14, rotation=0)\n",
    "n, bins, patches = plt.hist(x=df_numeric['Price_per_ps'], \n",
    "                            bins=20, \n",
    "                            color='#42AD12',\n",
    "                            alpha=0.5, \n",
    "                            rwidth=0.95\n",
    "                   )\n",
    "plt.grid(True)\n",
    "plt.ticklabel_format(style='plain')\n",
    "plt.grid(axis='y', alpha=0.75)\n",
    "\n",
    "# Set labels\n",
    "plt.xlabel('Price_per_ps', fontsize=10, labelpad=10)\n",
    "plt.ylabel('Frequency', fontsize=10, labelpad=10)\n",
    "plt.title('Histogram of Price_per_ps', fontsize=12, pad=10)\n",
    "\n",
    "# Set fontsize of tick labels\n",
    "plt.xticks(fontsize = 10)\n",
    "plt.yticks(fontsize = 10)\n",
    "\n",
    "plt.show()\n",
    "\n",
    "#was?"
   ]
  },
  {
   "cell_type": "markdown",
   "id": "1c9e762b",
   "metadata": {},
   "source": [
    "# Scatterplot"
   ]
  },
  {
   "cell_type": "code",
   "execution_count": 15,
   "id": "986fe74f",
   "metadata": {},
   "outputs": [
    {
     "data": {
      "text/plain": [
       "<seaborn.axisgrid.PairGrid at 0x2652b6a3880>"
      ]
     },
     "execution_count": 15,
     "metadata": {},
     "output_type": "execute_result"
    },
    {
     "data": {
      "image/png": "[encoded data removed]",
      "text/plain": [
       "<Figure size 480x480 with 20 Axes>"
      ]
     },
     "metadata": {},
     "output_type": "display_data"
    }
   ],
   "source": [
    "import seaborn as sns\n",
    "import matplotlib.pyplot as plt\n",
    "import statsmodels.api as sm\n",
    "import pylab as py\n",
    "\n",
    "sns.set(style=\"ticks\", font_scale=0.8)\n",
    "g = sns.PairGrid(df[['year_raw', \n",
    "                     'km_raw', \n",
    "                     'ps_raw', \n",
    "                     'price_raw']], \n",
    "                 height=1.2, \n",
    "                 aspect=1)\n",
    "g.map_upper(sns.scatterplot,color='darkgreen', s=10)\n",
    "g.map_lower(sns.scatterplot, color='darkgreen', s=10)\n",
    "g.map_diag(plt.hist, color='brown')"
   ]
  },
  {
   "cell_type": "code",
   "execution_count": 23,
   "id": "f8833744",
   "metadata": {},
   "outputs": [
    {
     "data": {
      "text/html": [
       "<div>\n",
       "<style scoped>\n",
       "    .dataframe tbody tr th:only-of-type {\n",
       "        vertical-align: middle;\n",
       "    }\n",
       "\n",
       "    .dataframe tbody tr th {\n",
       "        vertical-align: top;\n",
       "    }\n",
       "\n",
       "    .dataframe thead th {\n",
       "        text-align: right;\n",
       "    }\n",
       "</style>\n",
       "<table border=\"1\" class=\"dataframe\">\n",
       "  <thead>\n",
       "    <tr style=\"text-align: right;\">\n",
       "      <th></th>\n",
       "      <th>web-scraper-order</th>\n",
       "      <th>web-scraper-start-url</th>\n",
       "      <th>brand_raw</th>\n",
       "      <th>year_raw</th>\n",
       "      <th>km_raw</th>\n",
       "      <th>ps_raw</th>\n",
       "      <th>place_raw</th>\n",
       "      <th>price_raw</th>\n",
       "      <th>lat</th>\n",
       "      <th>lon</th>\n",
       "    </tr>\n",
       "  </thead>\n",
       "  <tbody>\n",
       "    <tr>\n",
       "      <th>86</th>\n",
       "      <td>1671226190-87</td>\n",
       "      <td>https://www.autolina.ch/carList/page/5?region=ZH</td>\n",
       "      <td>CHEVROLET</td>\n",
       "      <td>2011.0</td>\n",
       "      <td>173000</td>\n",
       "      <td>230</td>\n",
       "      <td>8166 Niederweningen / ZH</td>\n",
       "      <td>5300</td>\n",
       "      <td>None</td>\n",
       "      <td>None</td>\n",
       "    </tr>\n",
       "    <tr>\n",
       "      <th>133</th>\n",
       "      <td>1671226200-134</td>\n",
       "      <td>https://www.autolina.ch/carList/page/2?region=ZH</td>\n",
       "      <td>NISSAN</td>\n",
       "      <td>2015.0</td>\n",
       "      <td>105000</td>\n",
       "      <td>90</td>\n",
       "      <td>8051 Zürich / ZH</td>\n",
       "      <td>7490</td>\n",
       "      <td>None</td>\n",
       "      <td>None</td>\n",
       "    </tr>\n",
       "    <tr>\n",
       "      <th>142</th>\n",
       "      <td>1671226208-143</td>\n",
       "      <td>https://www.autolina.ch/carList/page/1?region=ZH</td>\n",
       "      <td>AUDI</td>\n",
       "      <td>2006.0</td>\n",
       "      <td>178000</td>\n",
       "      <td>170</td>\n",
       "      <td>8032 Zürich / ZH</td>\n",
       "      <td>7200</td>\n",
       "      <td>NaN</td>\n",
       "      <td>NaN</td>\n",
       "    </tr>\n",
       "    <tr>\n",
       "      <th>148</th>\n",
       "      <td>1671226208-149</td>\n",
       "      <td>https://www.autolina.ch/carList/page/1?region=ZH</td>\n",
       "      <td>FORD</td>\n",
       "      <td>2011.0</td>\n",
       "      <td>202000</td>\n",
       "      <td>85</td>\n",
       "      <td>8165 Schöfflisdorf / ZH</td>\n",
       "      <td>7000</td>\n",
       "      <td>NaN</td>\n",
       "      <td>NaN</td>\n",
       "    </tr>\n",
       "  </tbody>\n",
       "</table>\n",
       "</div>"
      ],
      "text/plain": [
       "    web-scraper-order                             web-scraper-start-url  \\\n",
       "86      1671226190-87  https://www.autolina.ch/carList/page/5?region=ZH   \n",
       "133    1671226200-134  https://www.autolina.ch/carList/page/2?region=ZH   \n",
       "142    1671226208-143  https://www.autolina.ch/carList/page/1?region=ZH   \n",
       "148    1671226208-149  https://www.autolina.ch/carList/page/1?region=ZH   \n",
       "\n",
       "     brand_raw  year_raw  km_raw  ps_raw                 place_raw  price_raw  \\\n",
       "86   CHEVROLET    2011.0  173000     230  8166 Niederweningen / ZH       5300   \n",
       "133     NISSAN    2015.0  105000      90          8051 Zürich / ZH       7490   \n",
       "142       AUDI    2006.0  178000     170          8032 Zürich / ZH       7200   \n",
       "148       FORD    2011.0  202000      85   8165 Schöfflisdorf / ZH       7000   \n",
       "\n",
       "      lat   lon  \n",
       "86   None  None  \n",
       "133  None  None  \n",
       "142   NaN   NaN  \n",
       "148   NaN   NaN  "
      ]
     },
     "execution_count": 23,
     "metadata": {},
     "output_type": "execute_result"
    }
   ],
   "source": [
    "# Low cost cars\n",
    "df[df.price_raw <= 8000].head()"
   ]
  },
  {
   "cell_type": "code",
   "execution_count": 24,
   "id": "e9592d34",
   "metadata": {},
   "outputs": [
    {
     "data": {
      "text/html": [
       "<div>\n",
       "<style scoped>\n",
       "    .dataframe tbody tr th:only-of-type {\n",
       "        vertical-align: middle;\n",
       "    }\n",
       "\n",
       "    .dataframe tbody tr th {\n",
       "        vertical-align: top;\n",
       "    }\n",
       "\n",
       "    .dataframe thead th {\n",
       "        text-align: right;\n",
       "    }\n",
       "</style>\n",
       "<table border=\"1\" class=\"dataframe\">\n",
       "  <thead>\n",
       "    <tr style=\"text-align: right;\">\n",
       "      <th></th>\n",
       "      <th>web-scraper-order</th>\n",
       "      <th>web-scraper-start-url</th>\n",
       "      <th>brand_raw</th>\n",
       "      <th>year_raw</th>\n",
       "      <th>km_raw</th>\n",
       "      <th>ps_raw</th>\n",
       "      <th>place_raw</th>\n",
       "      <th>price_raw</th>\n",
       "      <th>lat</th>\n",
       "      <th>lon</th>\n",
       "    </tr>\n",
       "  </thead>\n",
       "  <tbody>\n",
       "    <tr>\n",
       "      <th>0</th>\n",
       "      <td>1671226171-1</td>\n",
       "      <td>https://www.autolina.ch/carList/page/10?region=ZH</td>\n",
       "      <td>ALFA ROMEO</td>\n",
       "      <td>2015.0</td>\n",
       "      <td>2300</td>\n",
       "      <td>241</td>\n",
       "      <td>8408 Winterthur / ZH</td>\n",
       "      <td>109900</td>\n",
       "      <td>None</td>\n",
       "      <td>None</td>\n",
       "    </tr>\n",
       "    <tr>\n",
       "      <th>106</th>\n",
       "      <td>1671226197-107</td>\n",
       "      <td>https://www.autolina.ch/carList/page/3?region=ZH</td>\n",
       "      <td>MORGAN</td>\n",
       "      <td>2009.0</td>\n",
       "      <td>22500</td>\n",
       "      <td>367</td>\n",
       "      <td>6004 Luzern / ZH</td>\n",
       "      <td>219500</td>\n",
       "      <td>None</td>\n",
       "      <td>None</td>\n",
       "    </tr>\n",
       "    <tr>\n",
       "      <th>141</th>\n",
       "      <td>1671226208-142</td>\n",
       "      <td>https://www.autolina.ch/carList/page/1?region=ZH</td>\n",
       "      <td>MERCEDES-BENZ</td>\n",
       "      <td>1970.0</td>\n",
       "      <td>90000</td>\n",
       "      <td>170</td>\n",
       "      <td>8102 Oberengstringen / ZH</td>\n",
       "      <td>118000</td>\n",
       "      <td>NaN</td>\n",
       "      <td>NaN</td>\n",
       "    </tr>\n",
       "  </tbody>\n",
       "</table>\n",
       "</div>"
      ],
      "text/plain": [
       "    web-scraper-order                              web-scraper-start-url  \\\n",
       "0        1671226171-1  https://www.autolina.ch/carList/page/10?region=ZH   \n",
       "106    1671226197-107   https://www.autolina.ch/carList/page/3?region=ZH   \n",
       "141    1671226208-142   https://www.autolina.ch/carList/page/1?region=ZH   \n",
       "\n",
       "         brand_raw  year_raw  km_raw  ps_raw                  place_raw  \\\n",
       "0       ALFA ROMEO    2015.0    2300     241       8408 Winterthur / ZH   \n",
       "106         MORGAN    2009.0   22500     367           6004 Luzern / ZH   \n",
       "141  MERCEDES-BENZ    1970.0   90000     170  8102 Oberengstringen / ZH   \n",
       "\n",
       "     price_raw   lat   lon  \n",
       "0       109900  None  None  \n",
       "106     219500  None  None  \n",
       "141     118000   NaN   NaN  "
      ]
     },
     "execution_count": 24,
     "metadata": {},
     "output_type": "execute_result"
    }
   ],
   "source": [
    "# Low cost cars\n",
    "df[df.price_raw >= 100000].head()"
   ]
  },
  {
   "cell_type": "code",
   "execution_count": 31,
   "id": "5c43a06f",
   "metadata": {},
   "outputs": [
    {
     "data": {
      "text/html": [
       "<div>\n",
       "<style scoped>\n",
       "    .dataframe tbody tr th:only-of-type {\n",
       "        vertical-align: middle;\n",
       "    }\n",
       "\n",
       "    .dataframe tbody tr th {\n",
       "        vertical-align: top;\n",
       "    }\n",
       "\n",
       "    .dataframe thead th {\n",
       "        text-align: right;\n",
       "    }\n",
       "</style>\n",
       "<table border=\"1\" class=\"dataframe\">\n",
       "  <thead>\n",
       "    <tr style=\"text-align: right;\">\n",
       "      <th></th>\n",
       "      <th>web-scraper-order</th>\n",
       "      <th>web-scraper-start-url</th>\n",
       "      <th>brand_raw</th>\n",
       "      <th>year_raw</th>\n",
       "      <th>km_raw</th>\n",
       "      <th>ps_raw</th>\n",
       "      <th>place_raw</th>\n",
       "      <th>price_raw</th>\n",
       "      <th>lat</th>\n",
       "      <th>lon</th>\n",
       "    </tr>\n",
       "  </thead>\n",
       "  <tbody>\n",
       "    <tr>\n",
       "      <th>67</th>\n",
       "      <td>1671226187-68</td>\n",
       "      <td>https://www.autolina.ch/carList/page/6?region=ZH</td>\n",
       "      <td>MERCEDES-BENZ</td>\n",
       "      <td>2014.0</td>\n",
       "      <td>78068</td>\n",
       "      <td>586</td>\n",
       "      <td>8408 Winterthur / ZH</td>\n",
       "      <td>71900</td>\n",
       "      <td>None</td>\n",
       "      <td>None</td>\n",
       "    </tr>\n",
       "    <tr>\n",
       "      <th>138</th>\n",
       "      <td>1671226208-139</td>\n",
       "      <td>https://www.autolina.ch/carList/page/1?region=ZH</td>\n",
       "      <td>MERCEDES-BENZ</td>\n",
       "      <td>2013.0</td>\n",
       "      <td>98000</td>\n",
       "      <td>584</td>\n",
       "      <td>8910 Affoltern am Albis / ZH</td>\n",
       "      <td>55000</td>\n",
       "      <td>NaN</td>\n",
       "      <td>NaN</td>\n",
       "    </tr>\n",
       "  </tbody>\n",
       "</table>\n",
       "</div>"
      ],
      "text/plain": [
       "    web-scraper-order                             web-scraper-start-url  \\\n",
       "67      1671226187-68  https://www.autolina.ch/carList/page/6?region=ZH   \n",
       "138    1671226208-139  https://www.autolina.ch/carList/page/1?region=ZH   \n",
       "\n",
       "         brand_raw  year_raw  km_raw  ps_raw                     place_raw  \\\n",
       "67   MERCEDES-BENZ    2014.0   78068     586          8408 Winterthur / ZH   \n",
       "138  MERCEDES-BENZ    2013.0   98000     584  8910 Affoltern am Albis / ZH   \n",
       "\n",
       "     price_raw   lat   lon  \n",
       "67       71900  None  None  \n",
       "138      55000   NaN   NaN  "
      ]
     },
     "execution_count": 31,
     "metadata": {},
     "output_type": "execute_result"
    }
   ],
   "source": [
    "# high ps cars\n",
    "df[df.ps_raw >= 511].head()"
   ]
  },
  {
   "cell_type": "markdown",
   "id": "0ad51035",
   "metadata": {},
   "source": [
    "# Remove outliers"
   ]
  },
  {
   "cell_type": "code",
   "execution_count": 53,
   "id": "c26a673b",
   "metadata": {},
   "outputs": [],
   "source": [
    "q_low = df_clean[\"price_raw\"].quantile(0.01)\n",
    "q_hi  = df_clean[\"price_raw\"].quantile(0.99)\n",
    "\n",
    "df_filtered = df_clean[(df_clean[\"price_raw\"] < q_hi) & (df_clean[\"price_raw\"] > q_low)]"
   ]
  },
  {
   "cell_type": "markdown",
   "id": "eff0d893",
   "metadata": {},
   "source": [
    "# Boxplot (seaborn)"
   ]
  },
  {
   "cell_type": "code",
   "execution_count": 54,
   "id": "40591425",
   "metadata": {},
   "outputs": [
    {
     "data": {
      "text/plain": [
       "<AxesSubplot: xlabel='price_raw'>"
      ]
     },
     "execution_count": 54,
     "metadata": {},
     "output_type": "execute_result"
    },
    {
     "data": {
      "image/png": "[encoded data removed]",
      "text/plain": [
       "<Figure size 1500x120 with 1 Axes>"
      ]
     },
     "metadata": {},
     "output_type": "display_data"
    }
   ],
   "source": [
    "plt.figure(figsize=(15,1.2))\n",
    "plt.ticklabel_format(style='plain')\n",
    "sns.boxplot(x=df_filtered['price_raw'], color=\"greenyellow\")"
   ]
  }
 ],
 "metadata": {
  "kernelspec": {
   "display_name": "Python 3 (ipykernel)",
   "language": "python",
   "name": "python3"
  },
  "language_info": {
   "codemirror_mode": {
    "name": "ipython",
    "version": 3
   },
   "file_extension": ".py",
   "mimetype": "text/x-python",
   "name": "python",
   "nbconvert_exporter": "python",
   "pygments_lexer": "ipython3",
   "version": "3.9.13"
  }
 },
 "nbformat": 4,
 "nbformat_minor": 5
}
