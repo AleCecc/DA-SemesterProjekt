{
 "cells": [
  {
   "cell_type": "code",
   "execution_count": 2,
   "id": "c973e10c",
   "metadata": {},
   "outputs": [
    {
     "name": "stdout",
     "output_type": "stream",
     "text": [
      "    web-scraper-order                            web-scraper-start-url  \\\n",
      "0       1670677435-91  https://www.autolina.ch/carList?region=ZHpn=10.   \n",
      "1       1670677435-92  https://www.autolina.ch/carList?region=ZHpn=10.   \n",
      "2       1670677435-93  https://www.autolina.ch/carList?region=ZHpn=10.   \n",
      "3       1670677435-94  https://www.autolina.ch/carList?region=ZHpn=10.   \n",
      "4       1670677435-95  https://www.autolina.ch/carList?region=ZHpn=10.   \n",
      "..                ...                                              ...   \n",
      "145    1670677473-236   https://www.autolina.ch/carList?region=ZHpn=1.   \n",
      "146    1670677473-237   https://www.autolina.ch/carList?region=ZHpn=1.   \n",
      "147    1670677473-238   https://www.autolina.ch/carList?region=ZHpn=1.   \n",
      "148    1670677473-239   https://www.autolina.ch/carList?region=ZHpn=1.   \n",
      "149    1670677473-240   https://www.autolina.ch/carList?region=ZHpn=1.   \n",
      "\n",
      "         brand_raw  year_raw   km_raw  ps_raw                place_raw  \n",
      "0             FORD      2021   11'510     185     8404 Winterthur / ZH  \n",
      "1            SKODA      2018   52'000     280     4114 Hofstetten / SO  \n",
      "2               VW      2018   43'000     150          8610 Uster / ZH  \n",
      "3               VW      2010  118'000     240         8180 Bülach / ZH  \n",
      "4             FORD      2011  202'000      85  8165 Schöfflisdorf / ZH  \n",
      "..             ...       ...      ...     ...                      ...  \n",
      "145  MERCEDES-BENZ      2017   73'500     184    1028 Préverenges / VD  \n",
      "146           AUDI      2017   83'000     180      1066 Epalinges / VD  \n",
      "147           AUDI      2018   72'500     204        1845 Noville / VD  \n",
      "148          TESLA      2015  138'000     387           5312 Döttingen  \n",
      "149             VW      2015  128'000     230   562 Bremgarten AG / AG  \n",
      "\n",
      "[150 rows x 7 columns]\n"
     ]
    },
    {
     "data": {
      "text/plain": [
       "web-scraper-order        object\n",
       "web-scraper-start-url    object\n",
       "brand_raw                object\n",
       "year_raw                  int64\n",
       "km_raw                   object\n",
       "ps_raw                    int64\n",
       "place_raw                object\n",
       "dtype: object"
      ]
     },
     "execution_count": 2,
     "metadata": {},
     "output_type": "execute_result"
    }
   ],
   "source": [
    "# Libraries\n",
    "import os\n",
    "import re\n",
    "import time\n",
    "import fnmatch\n",
    "import numpy as np\n",
    "import pandas as pd\n",
    "import mysql.connector\n",
    "\n",
    "df = pd.read_csv('zurich.csv', sep=',', encoding='utf-8')\n",
    "print(df)\n",
    "df.dtypes"
   ]
  },
  {
   "cell_type": "code",
   "execution_count": 3,
   "id": "7971c3c0",
   "metadata": {},
   "outputs": [
    {
     "name": "stdout",
     "output_type": "stream",
     "text": [
      "         brand_raw  year_raw   km_raw  ps_raw                place_raw\n",
      "0             FORD      2021   11'510     185     8404 Winterthur / ZH\n",
      "1            SKODA      2018   52'000     280     4114 Hofstetten / SO\n",
      "2               VW      2018   43'000     150          8610 Uster / ZH\n",
      "3               VW      2010  118'000     240         8180 Bülach / ZH\n",
      "4             FORD      2011  202'000      85  8165 Schöfflisdorf / ZH\n",
      "..             ...       ...      ...     ...                      ...\n",
      "145  MERCEDES-BENZ      2017   73'500     184    1028 Préverenges / VD\n",
      "146           AUDI      2017   83'000     180      1066 Epalinges / VD\n",
      "147           AUDI      2018   72'500     204        1845 Noville / VD\n",
      "148          TESLA      2015  138'000     387           5312 Döttingen\n",
      "149             VW      2015  128'000     230   562 Bremgarten AG / AG\n",
      "\n",
      "[150 rows x 5 columns]\n"
     ]
    }
   ],
   "source": [
    "#DF Bereinigen\n",
    "df_clean=df[[\"brand_raw\",\"year_raw\", \"km_raw\",\"ps_raw\",\"place_raw\"]]\n",
    "print(df_clean)"
   ]
  },
  {
   "cell_type": "code",
   "execution_count": 9,
   "id": "a43a67c0",
   "metadata": {},
   "outputs": [
    {
     "name": "stdout",
     "output_type": "stream",
     "text": [
      "Empty DataFrame\n",
      "Columns: [brand_raw, year_raw, km_raw, ps_raw, place_raw]\n",
      "Index: []\n",
      "    brand_raw  year_raw   km_raw  ps_raw                place_raw\n",
      "0        FORD      2021   11'510     185     8404 Winterthur / ZH\n",
      "2          VW      2018   43'000     150          8610 Uster / ZH\n",
      "3          VW      2010  118'000     240         8180 Bülach / ZH\n",
      "4        FORD      2011  202'000      85  8165 Schöfflisdorf / ZH\n",
      "15       FORD      2021   11'510     185     8404 Winterthur / ZH\n",
      "17         VW      2018   43'000     150          8610 Uster / ZH\n",
      "18         VW      2010  118'000     240         8180 Bülach / ZH\n",
      "19       FORD      2011  202'000      85  8165 Schöfflisdorf / ZH\n",
      "30       FORD      2021   11'510     185     8404 Winterthur / ZH\n",
      "32         VW      2018   43'000     150          8610 Uster / ZH\n",
      "33         VW      2010  118'000     240         8180 Bülach / ZH\n",
      "34       FORD      2011  202'000      85  8165 Schöfflisdorf / ZH\n",
      "45       FORD      2021   11'510     185     8404 Winterthur / ZH\n",
      "47         VW      2018   43'000     150          8610 Uster / ZH\n",
      "48         VW      2010  118'000     240         8180 Bülach / ZH\n",
      "49       FORD      2011  202'000      85  8165 Schöfflisdorf / ZH\n",
      "60       FORD      2021   11'510     185     8404 Winterthur / ZH\n",
      "62         VW      2018   43'000     150          8610 Uster / ZH\n",
      "63         VW      2010  118'000     240         8180 Bülach / ZH\n",
      "64       FORD      2011  202'000      85  8165 Schöfflisdorf / ZH\n",
      "75       FORD      2021   11'510     185     8404 Winterthur / ZH\n",
      "77         VW      2018   43'000     150          8610 Uster / ZH\n",
      "78         VW      2010  118'000     240         8180 Bülach / ZH\n",
      "79       FORD      2011  202'000      85  8165 Schöfflisdorf / ZH\n",
      "90       FORD      2021   11'510     185     8404 Winterthur / ZH\n",
      "92         VW      2018   43'000     150          8610 Uster / ZH\n",
      "93         VW      2010  118'000     240         8180 Bülach / ZH\n",
      "94       FORD      2011  202'000      85  8165 Schöfflisdorf / ZH\n",
      "105      FORD      2021   11'510     185     8404 Winterthur / ZH\n",
      "107        VW      2018   43'000     150          8610 Uster / ZH\n",
      "108        VW      2010  118'000     240         8180 Bülach / ZH\n",
      "109      FORD      2011  202'000      85  8165 Schöfflisdorf / ZH\n",
      "120      FORD      2021   11'510     185     8404 Winterthur / ZH\n",
      "122        VW      2018   43'000     150          8610 Uster / ZH\n",
      "123        VW      2010  118'000     240         8180 Bülach / ZH\n",
      "124      FORD      2011  202'000      85  8165 Schöfflisdorf / ZH\n",
      "135      FORD      2021   11'510     185     8404 Winterthur / ZH\n",
      "137        VW      2018   43'000     150          8610 Uster / ZH\n",
      "138        VW      2010  118'000     240         8180 Bülach / ZH\n",
      "139      FORD      2011  202'000      85  8165 Schöfflisdorf / ZH\n"
     ]
    }
   ],
   "source": [
    "#DF nach ZH filtern\n",
    "df_zh2=df_clean[df_clean['place_raw'].str.contains(\"ZH\")]\n",
    "\n",
    "print(df_zh)"
   ]
  },
  {
   "cell_type": "code",
   "execution_count": null,
   "id": "8d021361",
   "metadata": {},
   "outputs": [],
   "source": []
  },
  {
   "cell_type": "code",
   "execution_count": null,
   "id": "8397a221",
   "metadata": {},
   "outputs": [],
   "source": []
  }
 ],
 "metadata": {
  "kernelspec": {
   "display_name": "Python 3 (ipykernel)",
   "language": "python",
   "name": "python3"
  },
  "language_info": {
   "codemirror_mode": {
    "name": "ipython",
    "version": 3
   },
   "file_extension": ".py",
   "mimetype": "text/x-python",
   "name": "python",
   "nbconvert_exporter": "python",
   "pygments_lexer": "ipython3",
   "version": "3.9.7"
  }
 },
 "nbformat": 4,
 "nbformat_minor": 5
}
