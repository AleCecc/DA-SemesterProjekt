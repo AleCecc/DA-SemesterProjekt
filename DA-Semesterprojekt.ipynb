{
 "cells": [
  {
   "cell_type": "code",
   "execution_count": 1,
   "id": "c973e10c",
   "metadata": {},
   "outputs": [],
   "source": [
    "# Libraries\n",
    "import os\n",
    "import re\n",
    "import time\n",
    "import fnmatch\n",
    "import numpy as np\n",
    "import pandas as pd\n",
    "import warnings\n",
    "from sklearn import tree\n",
    "from sklearn.metrics import RocCurveDisplay\n",
    "from sklearn.tree import DecisionTreeClassifier\n",
    "from sklearn.ensemble import RandomForestClassifier\n",
    "from sklearn.model_selection import train_test_split\n",
    "from sklearn.metrics import classification_report, confusion_matrix\n",
    "warnings.filterwarnings('ignore')\n",
    "# import mysql.connector\n",
    "import matplotlib.pyplot as plt\n",
    "df = pd.read_csv('zurich.csv', sep=',', encoding='utf-8')"
   ]
  },
  {
   "cell_type": "code",
   "execution_count": 2,
   "id": "1815e6c6",
   "metadata": {},
   "outputs": [
    {
     "name": "stdout",
     "output_type": "stream",
     "text": [
      "    web-scraper-order                              web-scraper-start-url  \\\n",
      "0      1671628590-151  https://www.autolina.ch/carList/page/50?region=ZH   \n",
      "1      1671628590-152  https://www.autolina.ch/carList/page/50?region=ZH   \n",
      "2      1671628590-153  https://www.autolina.ch/carList/page/50?region=ZH   \n",
      "3      1671628590-154  https://www.autolina.ch/carList/page/50?region=ZH   \n",
      "4      1671628590-155  https://www.autolina.ch/carList/page/50?region=ZH   \n",
      "..                ...                                                ...   \n",
      "745    1671628755-896   https://www.autolina.ch/carList/page/1?region=ZH   \n",
      "746    1671628755-897   https://www.autolina.ch/carList/page/1?region=ZH   \n",
      "747    1671628755-898   https://www.autolina.ch/carList/page/1?region=ZH   \n",
      "748    1671628755-899   https://www.autolina.ch/carList/page/1?region=ZH   \n",
      "749    1671628755-900   https://www.autolina.ch/carList/page/1?region=ZH   \n",
      "\n",
      "         brand_raw  year_raw   km_raw  ps_raw               place_raw  \\\n",
      "0              BMW       NaN       10   285.0        8008 Zürich / ZH   \n",
      "1            SKODA       NaN      100   110.0         8610 Uster / ZH   \n",
      "2    MERCEDES-BENZ    2015.0   93'500   333.0  8317 Tagelswangen / ZH   \n",
      "3           TOYOTA    2010.0   90'100    90.0   8903 Birmensdorf / ZH   \n",
      "4              BMW    2017.0   84'700   190.0  8317 Tagelswangen / ZH   \n",
      "..             ...       ...      ...     ...                     ...   \n",
      "745  MERCEDES-BENZ    2020.0   37'500   163.0        8340 Hinwil / ZH   \n",
      "746            BMW    2015.0  162'800   190.0        8340 Hinwil / ZH   \n",
      "747           FIAT    2015.0    4'900    95.0        8340 Hinwil / ZH   \n",
      "748  MERCEDES-BENZ    2019.0   38'600   476.0        8340 Hinwil / ZH   \n",
      "749            BMW    2016.0   65'500   449.0     8154 Oberglatt / ZH   \n",
      "\n",
      "    price_raw                                         modell_raw  \\\n",
      "0      99'800                      X5 48V 30d M Sport Steptronic   \n",
      "1      27'990                                        FABIA Style   \n",
      "2      29'999  C 400 Avantgarde 4Matic 7G-Tronic / TOP AUSSTA...   \n",
      "3       7'800               UrbanCruiser 1.4 D-4D Linea Luna 4WD   \n",
      "4      24'500  320d Touring Steptronic /HEAD-UP / NAVI / ELEK...   \n",
      "..        ...                                                ...   \n",
      "745    44'900                 Vito 116 CDI Lang 4Matic 7G-Tronic   \n",
      "746    18'900                            X1 20d xLine Steptronic   \n",
      "747    12'900                    Doblò 1.4 Active Hochdach*95PS*   \n",
      "748    79'900                                 C 63 AMG 9G-tronic   \n",
      "749    57'900                            7er Reihe G12 750Li SAG   \n",
      "\n",
      "          gear_raw                    fuel_raw  \n",
      "0          Automat  Mild-Hybrid Diesel/Elektro  \n",
      "1    Handschaltung                      Benzin  \n",
      "2          Automat                      Benzin  \n",
      "3    Handschaltung                      Diesel  \n",
      "4          Automat                      Diesel  \n",
      "..             ...                         ...  \n",
      "745        Automat                      Diesel  \n",
      "746        Automat                      Diesel  \n",
      "747  Handschaltung                      Benzin  \n",
      "748        Automat                      Benzin  \n",
      "749        Automat                      Benzin  \n",
      "\n",
      "[750 rows x 11 columns]\n"
     ]
    },
    {
     "data": {
      "text/plain": [
       "web-scraper-order         object\n",
       "web-scraper-start-url     object\n",
       "brand_raw                 object\n",
       "year_raw                 float64\n",
       "km_raw                    object\n",
       "ps_raw                   float64\n",
       "place_raw                 object\n",
       "price_raw                 object\n",
       "modell_raw                object\n",
       "gear_raw                  object\n",
       "fuel_raw                  object\n",
       "dtype: object"
      ]
     },
     "execution_count": 2,
     "metadata": {},
     "output_type": "execute_result"
    }
   ],
   "source": [
    "print(df)\n",
    "df.dtypes"
   ]
  },
  {
   "cell_type": "code",
   "execution_count": 3,
   "id": "812c08e7",
   "metadata": {},
   "outputs": [
    {
     "name": "stdout",
     "output_type": "stream",
     "text": [
      "    web-scraper-order                              web-scraper-start-url  \\\n",
      "0      1671628590-151  https://www.autolina.ch/carList/page/50?region=ZH   \n",
      "1      1671628590-152  https://www.autolina.ch/carList/page/50?region=ZH   \n",
      "2      1671628590-153  https://www.autolina.ch/carList/page/50?region=ZH   \n",
      "3      1671628590-154  https://www.autolina.ch/carList/page/50?region=ZH   \n",
      "4      1671628590-155  https://www.autolina.ch/carList/page/50?region=ZH   \n",
      "..                ...                                                ...   \n",
      "745    1671628755-896   https://www.autolina.ch/carList/page/1?region=ZH   \n",
      "746    1671628755-897   https://www.autolina.ch/carList/page/1?region=ZH   \n",
      "747    1671628755-898   https://www.autolina.ch/carList/page/1?region=ZH   \n",
      "748    1671628755-899   https://www.autolina.ch/carList/page/1?region=ZH   \n",
      "749    1671628755-900   https://www.autolina.ch/carList/page/1?region=ZH   \n",
      "\n",
      "         brand_raw  year_raw  km_raw  ps_raw               place_raw  \\\n",
      "0              BMW       NaN      10   285.0        8008 Zürich / ZH   \n",
      "1            SKODA       NaN     100   110.0         8610 Uster / ZH   \n",
      "2    MERCEDES-BENZ    2015.0   93500   333.0  8317 Tagelswangen / ZH   \n",
      "3           TOYOTA    2010.0   90100    90.0   8903 Birmensdorf / ZH   \n",
      "4              BMW    2017.0   84700   190.0  8317 Tagelswangen / ZH   \n",
      "..             ...       ...     ...     ...                     ...   \n",
      "745  MERCEDES-BENZ    2020.0   37500   163.0        8340 Hinwil / ZH   \n",
      "746            BMW    2015.0  162800   190.0        8340 Hinwil / ZH   \n",
      "747           FIAT    2015.0    4900    95.0        8340 Hinwil / ZH   \n",
      "748  MERCEDES-BENZ    2019.0   38600   476.0        8340 Hinwil / ZH   \n",
      "749            BMW    2016.0   65500   449.0     8154 Oberglatt / ZH   \n",
      "\n",
      "    price_raw                                         modell_raw  \\\n",
      "0       99800                      X5 48V 30d M Sport Steptronic   \n",
      "1       27990                                        FABIA Style   \n",
      "2       29999  C 400 Avantgarde 4Matic 7G-Tronic / TOP AUSSTA...   \n",
      "3        7800               UrbanCruiser 1.4 D-4D Linea Luna 4WD   \n",
      "4       24500  320d Touring Steptronic /HEAD-UP / NAVI / ELEK...   \n",
      "..        ...                                                ...   \n",
      "745     44900                 Vito 116 CDI Lang 4Matic 7G-Tronic   \n",
      "746     18900                            X1 20d xLine Steptronic   \n",
      "747     12900                    Doblò 1.4 Active Hochdach*95PS*   \n",
      "748     79900                                 C 63 AMG 9G-tronic   \n",
      "749     57900                            7er Reihe G12 750Li SAG   \n",
      "\n",
      "          gear_raw                    fuel_raw  \n",
      "0          Automat  Mild-Hybrid Diesel/Elektro  \n",
      "1    Handschaltung                      Benzin  \n",
      "2          Automat                      Benzin  \n",
      "3    Handschaltung                      Diesel  \n",
      "4          Automat                      Diesel  \n",
      "..             ...                         ...  \n",
      "745        Automat                      Diesel  \n",
      "746        Automat                      Diesel  \n",
      "747  Handschaltung                      Benzin  \n",
      "748        Automat                      Benzin  \n",
      "749        Automat                      Benzin  \n",
      "\n",
      "[750 rows x 11 columns]\n"
     ]
    }
   ],
   "source": [
    "df=df.astype({'km_raw':'string'})\n",
    "df['price_raw']=df['price_raw'].str.replace(\"'\", \"\")\n",
    "df['km_raw']=df['km_raw'].str.replace(\"'\", \"\")\n",
    "print(df)"
   ]
  },
  {
   "cell_type": "code",
   "execution_count": 4,
   "id": "7971c3c0",
   "metadata": {},
   "outputs": [
    {
     "name": "stdout",
     "output_type": "stream",
     "text": [
      "    web-scraper-order                              web-scraper-start-url  \\\n",
      "2      1671628590-153  https://www.autolina.ch/carList/page/50?region=ZH   \n",
      "3      1671628590-154  https://www.autolina.ch/carList/page/50?region=ZH   \n",
      "4      1671628590-155  https://www.autolina.ch/carList/page/50?region=ZH   \n",
      "5      1671628590-156  https://www.autolina.ch/carList/page/50?region=ZH   \n",
      "6      1671628590-157  https://www.autolina.ch/carList/page/50?region=ZH   \n",
      "..                ...                                                ...   \n",
      "745    1671628755-896   https://www.autolina.ch/carList/page/1?region=ZH   \n",
      "746    1671628755-897   https://www.autolina.ch/carList/page/1?region=ZH   \n",
      "747    1671628755-898   https://www.autolina.ch/carList/page/1?region=ZH   \n",
      "748    1671628755-899   https://www.autolina.ch/carList/page/1?region=ZH   \n",
      "749    1671628755-900   https://www.autolina.ch/carList/page/1?region=ZH   \n",
      "\n",
      "         brand_raw  year_raw  km_raw  ps_raw               place_raw  \\\n",
      "2    MERCEDES-BENZ    2015.0   93500     333  8317 Tagelswangen / ZH   \n",
      "3           TOYOTA    2010.0   90100      90   8903 Birmensdorf / ZH   \n",
      "4              BMW    2017.0   84700     190  8317 Tagelswangen / ZH   \n",
      "5            VOLVO    2018.0   86006     250  8317 Tagelswangen / ZH   \n",
      "6             SEAT    2016.0   89579     180  8317 Tagelswangen / ZH   \n",
      "..             ...       ...     ...     ...                     ...   \n",
      "745  MERCEDES-BENZ    2020.0   37500     163        8340 Hinwil / ZH   \n",
      "746            BMW    2015.0  162800     190        8340 Hinwil / ZH   \n",
      "747           FIAT    2015.0    4900      95        8340 Hinwil / ZH   \n",
      "748  MERCEDES-BENZ    2019.0   38600     476        8340 Hinwil / ZH   \n",
      "749            BMW    2016.0   65500     449     8154 Oberglatt / ZH   \n",
      "\n",
      "     price_raw                                         modell_raw  \\\n",
      "2        29999  C 400 Avantgarde 4Matic 7G-Tronic / TOP AUSSTA...   \n",
      "3         7800               UrbanCruiser 1.4 D-4D Linea Luna 4WD   \n",
      "4        24500  320d Touring Steptronic /HEAD-UP / NAVI / ELEK...   \n",
      "5        37500  XC60 T5 AWD Inscription Geartronic / TOP ZUSTA...   \n",
      "6        17500  Leon 1.8 TSI FR Line / SEHR GEPFLEGTES AUTO IN...   \n",
      "..         ...                                                ...   \n",
      "745      44900                 Vito 116 CDI Lang 4Matic 7G-Tronic   \n",
      "746      18900                            X1 20d xLine Steptronic   \n",
      "747      12900                    Doblò 1.4 Active Hochdach*95PS*   \n",
      "748      79900                                 C 63 AMG 9G-tronic   \n",
      "749      57900                            7er Reihe G12 750Li SAG   \n",
      "\n",
      "          gear_raw fuel_raw  \n",
      "2          Automat   Benzin  \n",
      "3    Handschaltung   Diesel  \n",
      "4          Automat   Diesel  \n",
      "5          Automat   Benzin  \n",
      "6    Handschaltung   Benzin  \n",
      "..             ...      ...  \n",
      "745        Automat   Diesel  \n",
      "746        Automat   Diesel  \n",
      "747  Handschaltung   Benzin  \n",
      "748        Automat   Benzin  \n",
      "749        Automat   Benzin  \n",
      "\n",
      "[615 rows x 11 columns]\n"
     ]
    }
   ],
   "source": [
    "#DF Bereinigen\n",
    "df=df.dropna()\n",
    "df=df.astype({'price_raw':'int'})\n",
    "df=df.astype({'ps_raw':'int'})\n",
    "df=df.astype({'km_raw':'int'})\n",
    "print(df)"
   ]
  },
  {
   "cell_type": "code",
   "execution_count": 5,
   "id": "a43a67c0",
   "metadata": {},
   "outputs": [
    {
     "name": "stdout",
     "output_type": "stream",
     "text": [
      "         brand_raw  year_raw  km_raw  ps_raw               place_raw  \\\n",
      "2    MERCEDES-BENZ    2015.0   93500     333  8317 Tagelswangen / ZH   \n",
      "3           TOYOTA    2010.0   90100      90   8903 Birmensdorf / ZH   \n",
      "4              BMW    2017.0   84700     190  8317 Tagelswangen / ZH   \n",
      "5            VOLVO    2018.0   86006     250  8317 Tagelswangen / ZH   \n",
      "6             SEAT    2016.0   89579     180  8317 Tagelswangen / ZH   \n",
      "..             ...       ...     ...     ...                     ...   \n",
      "745  MERCEDES-BENZ    2020.0   37500     163        8340 Hinwil / ZH   \n",
      "746            BMW    2015.0  162800     190        8340 Hinwil / ZH   \n",
      "747           FIAT    2015.0    4900      95        8340 Hinwil / ZH   \n",
      "748  MERCEDES-BENZ    2019.0   38600     476        8340 Hinwil / ZH   \n",
      "749            BMW    2016.0   65500     449     8154 Oberglatt / ZH   \n",
      "\n",
      "     price_raw  \n",
      "2        29999  \n",
      "3         7800  \n",
      "4        24500  \n",
      "5        37500  \n",
      "6        17500  \n",
      "..         ...  \n",
      "745      44900  \n",
      "746      18900  \n",
      "747      12900  \n",
      "748      79900  \n",
      "749      57900  \n",
      "\n",
      "[615 rows x 6 columns]\n"
     ]
    }
   ],
   "source": [
    "#DF nach ZH filtern\n",
    "df_clean=df[[\"brand_raw\",\"year_raw\", \"km_raw\",\"ps_raw\",\"place_raw\",\"price_raw\"]]\n",
    "df_zh=df_clean[df_clean['place_raw'].str.contains(\"ZH\")]\n",
    "df_zh=df_zh.drop_duplicates()\n",
    "print(df_zh)"
   ]
  },
  {
   "cell_type": "code",
   "execution_count": 6,
   "id": "8d021361",
   "metadata": {},
   "outputs": [
    {
     "data": {
      "text/html": [
       "<div>\n",
       "<style scoped>\n",
       "    .dataframe tbody tr th:only-of-type {\n",
       "        vertical-align: middle;\n",
       "    }\n",
       "\n",
       "    .dataframe tbody tr th {\n",
       "        vertical-align: top;\n",
       "    }\n",
       "\n",
       "    .dataframe thead th {\n",
       "        text-align: right;\n",
       "    }\n",
       "</style>\n",
       "<table border=\"1\" class=\"dataframe\">\n",
       "  <thead>\n",
       "    <tr style=\"text-align: right;\">\n",
       "      <th></th>\n",
       "      <th>year_raw</th>\n",
       "      <th>km_raw</th>\n",
       "      <th>ps_raw</th>\n",
       "      <th>price_raw</th>\n",
       "    </tr>\n",
       "  </thead>\n",
       "  <tbody>\n",
       "    <tr>\n",
       "      <th>count</th>\n",
       "      <td>615.000000</td>\n",
       "      <td>615.000000</td>\n",
       "      <td>615.000000</td>\n",
       "      <td>615.000000</td>\n",
       "    </tr>\n",
       "    <tr>\n",
       "      <th>mean</th>\n",
       "      <td>2016.580488</td>\n",
       "      <td>66153.674797</td>\n",
       "      <td>215.128455</td>\n",
       "      <td>39582.377236</td>\n",
       "    </tr>\n",
       "    <tr>\n",
       "      <th>std</th>\n",
       "      <td>6.960307</td>\n",
       "      <td>58237.955707</td>\n",
       "      <td>113.358709</td>\n",
       "      <td>36285.352770</td>\n",
       "    </tr>\n",
       "    <tr>\n",
       "      <th>min</th>\n",
       "      <td>1955.000000</td>\n",
       "      <td>0.000000</td>\n",
       "      <td>60.000000</td>\n",
       "      <td>1900.000000</td>\n",
       "    </tr>\n",
       "    <tr>\n",
       "      <th>25%</th>\n",
       "      <td>2015.000000</td>\n",
       "      <td>18962.000000</td>\n",
       "      <td>140.000000</td>\n",
       "      <td>18935.000000</td>\n",
       "    </tr>\n",
       "    <tr>\n",
       "      <th>50%</th>\n",
       "      <td>2018.000000</td>\n",
       "      <td>54500.000000</td>\n",
       "      <td>190.000000</td>\n",
       "      <td>29900.000000</td>\n",
       "    </tr>\n",
       "    <tr>\n",
       "      <th>75%</th>\n",
       "      <td>2021.000000</td>\n",
       "      <td>98000.000000</td>\n",
       "      <td>258.000000</td>\n",
       "      <td>49850.000000</td>\n",
       "    </tr>\n",
       "    <tr>\n",
       "      <th>max</th>\n",
       "      <td>2023.000000</td>\n",
       "      <td>438500.000000</td>\n",
       "      <td>680.000000</td>\n",
       "      <td>395000.000000</td>\n",
       "    </tr>\n",
       "  </tbody>\n",
       "</table>\n",
       "</div>"
      ],
      "text/plain": [
       "          year_raw         km_raw      ps_raw      price_raw\n",
       "count   615.000000     615.000000  615.000000     615.000000\n",
       "mean   2016.580488   66153.674797  215.128455   39582.377236\n",
       "std       6.960307   58237.955707  113.358709   36285.352770\n",
       "min    1955.000000       0.000000   60.000000    1900.000000\n",
       "25%    2015.000000   18962.000000  140.000000   18935.000000\n",
       "50%    2018.000000   54500.000000  190.000000   29900.000000\n",
       "75%    2021.000000   98000.000000  258.000000   49850.000000\n",
       "max    2023.000000  438500.000000  680.000000  395000.000000"
      ]
     },
     "execution_count": 6,
     "metadata": {},
     "output_type": "execute_result"
    }
   ],
   "source": [
    "df_zh.describe()"
   ]
  },
  {
   "cell_type": "code",
   "execution_count": 7,
   "id": "8397a221",
   "metadata": {},
   "outputs": [],
   "source": [
    "df_zh=df_zh.assign(Price_per_ps=df_zh[\"price_raw\"]/df_zh[\"ps_raw\"])"
   ]
  },
  {
   "cell_type": "code",
   "execution_count": 8,
   "id": "9da39841",
   "metadata": {},
   "outputs": [],
   "source": [
    "df_zh=df_zh.assign(km_per_year=df_zh[\"km_raw\"]/(2023-df_zh[\"year_raw\"]))"
   ]
  },
  {
   "cell_type": "code",
   "execution_count": 9,
   "id": "a056ad42",
   "metadata": {},
   "outputs": [
    {
     "name": "stdout",
     "output_type": "stream",
     "text": [
      "     year_raw  km_raw  ps_raw  price_raw   km_per_year  Price_per_ps\n",
      "2      2015.0   93500     333      29999  11687.500000     90.087087\n",
      "3      2010.0   90100      90       7800   6930.769231     86.666667\n",
      "4      2017.0   84700     190      24500  14116.666667    128.947368\n",
      "5      2018.0   86006     250      37500  17201.200000    150.000000\n",
      "6      2016.0   89579     180      17500  12797.000000     97.222222\n",
      "..        ...     ...     ...        ...           ...           ...\n",
      "745    2020.0   37500     163      44900  12500.000000    275.460123\n",
      "746    2015.0  162800     190      18900  20350.000000     99.473684\n",
      "747    2015.0    4900      95      12900    612.500000    135.789474\n",
      "748    2019.0   38600     476      79900   9650.000000    167.857143\n",
      "749    2016.0   65500     449      57900   9357.142857    128.953229\n",
      "\n",
      "[615 rows x 6 columns]\n"
     ]
    }
   ],
   "source": [
    "df_numeric=df_zh[[\"year_raw\", \"km_raw\",\"ps_raw\",\"price_raw\",\"km_per_year\",\"Price_per_ps\"]]\n",
    "print(df_numeric)"
   ]
  },
  {
   "cell_type": "code",
   "execution_count": 10,
   "id": "e089fd5b",
   "metadata": {},
   "outputs": [
    {
     "data": {
      "text/html": [
       "<div>\n",
       "<style scoped>\n",
       "    .dataframe tbody tr th:only-of-type {\n",
       "        vertical-align: middle;\n",
       "    }\n",
       "\n",
       "    .dataframe tbody tr th {\n",
       "        vertical-align: top;\n",
       "    }\n",
       "\n",
       "    .dataframe thead th {\n",
       "        text-align: right;\n",
       "    }\n",
       "</style>\n",
       "<table border=\"1\" class=\"dataframe\">\n",
       "  <thead>\n",
       "    <tr style=\"text-align: right;\">\n",
       "      <th></th>\n",
       "      <th>year_raw</th>\n",
       "      <th>km_raw</th>\n",
       "      <th>ps_raw</th>\n",
       "      <th>price_raw</th>\n",
       "      <th>km_per_year</th>\n",
       "      <th>Price_per_ps</th>\n",
       "    </tr>\n",
       "  </thead>\n",
       "  <tbody>\n",
       "    <tr>\n",
       "      <th>year_raw</th>\n",
       "      <td>1.000000</td>\n",
       "      <td>-0.444013</td>\n",
       "      <td>0.137609</td>\n",
       "      <td>0.156541</td>\n",
       "      <td>0.091576</td>\n",
       "      <td>0.062477</td>\n",
       "    </tr>\n",
       "    <tr>\n",
       "      <th>km_raw</th>\n",
       "      <td>-0.444013</td>\n",
       "      <td>1.000000</td>\n",
       "      <td>-0.109907</td>\n",
       "      <td>-0.416892</td>\n",
       "      <td>0.579728</td>\n",
       "      <td>-0.480491</td>\n",
       "    </tr>\n",
       "    <tr>\n",
       "      <th>ps_raw</th>\n",
       "      <td>0.137609</td>\n",
       "      <td>-0.109907</td>\n",
       "      <td>1.000000</td>\n",
       "      <td>0.664530</td>\n",
       "      <td>0.007007</td>\n",
       "      <td>0.028903</td>\n",
       "    </tr>\n",
       "    <tr>\n",
       "      <th>price_raw</th>\n",
       "      <td>0.156541</td>\n",
       "      <td>-0.416892</td>\n",
       "      <td>0.664530</td>\n",
       "      <td>1.000000</td>\n",
       "      <td>-0.188468</td>\n",
       "      <td>0.611108</td>\n",
       "    </tr>\n",
       "    <tr>\n",
       "      <th>km_per_year</th>\n",
       "      <td>0.091576</td>\n",
       "      <td>0.579728</td>\n",
       "      <td>0.007007</td>\n",
       "      <td>-0.188468</td>\n",
       "      <td>1.000000</td>\n",
       "      <td>-0.240335</td>\n",
       "    </tr>\n",
       "    <tr>\n",
       "      <th>Price_per_ps</th>\n",
       "      <td>0.062477</td>\n",
       "      <td>-0.480491</td>\n",
       "      <td>0.028903</td>\n",
       "      <td>0.611108</td>\n",
       "      <td>-0.240335</td>\n",
       "      <td>1.000000</td>\n",
       "    </tr>\n",
       "  </tbody>\n",
       "</table>\n",
       "</div>"
      ],
      "text/plain": [
       "              year_raw    km_raw    ps_raw  price_raw  km_per_year  \\\n",
       "year_raw      1.000000 -0.444013  0.137609   0.156541     0.091576   \n",
       "km_raw       -0.444013  1.000000 -0.109907  -0.416892     0.579728   \n",
       "ps_raw        0.137609 -0.109907  1.000000   0.664530     0.007007   \n",
       "price_raw     0.156541 -0.416892  0.664530   1.000000    -0.188468   \n",
       "km_per_year   0.091576  0.579728  0.007007  -0.188468     1.000000   \n",
       "Price_per_ps  0.062477 -0.480491  0.028903   0.611108    -0.240335   \n",
       "\n",
       "              Price_per_ps  \n",
       "year_raw          0.062477  \n",
       "km_raw           -0.480491  \n",
       "ps_raw            0.028903  \n",
       "price_raw         0.611108  \n",
       "km_per_year      -0.240335  \n",
       "Price_per_ps      1.000000  "
      ]
     },
     "execution_count": 10,
     "metadata": {},
     "output_type": "execute_result"
    }
   ],
   "source": [
    "corr = df_numeric.corr()\n",
    "corr"
   ]
  },
  {
   "cell_type": "markdown",
   "id": "2969e3b7",
   "metadata": {},
   "source": [
    "# The horsepower and price correlate the most with each other. The least correlation has horsepower and year. "
   ]
  },
  {
   "cell_type": "code",
   "execution_count": 11,
   "id": "f789e2f2",
   "metadata": {},
   "outputs": [
    {
     "data": {
      "text/html": [
       "<div>\n",
       "<style scoped>\n",
       "    .dataframe tbody tr th:only-of-type {\n",
       "        vertical-align: middle;\n",
       "    }\n",
       "\n",
       "    .dataframe tbody tr th {\n",
       "        vertical-align: top;\n",
       "    }\n",
       "\n",
       "    .dataframe thead th {\n",
       "        text-align: right;\n",
       "    }\n",
       "</style>\n",
       "<table border=\"1\" class=\"dataframe\">\n",
       "  <thead>\n",
       "    <tr style=\"text-align: right;\">\n",
       "      <th></th>\n",
       "      <th>year_raw</th>\n",
       "      <th>km_raw</th>\n",
       "      <th>ps_raw</th>\n",
       "      <th>price_raw</th>\n",
       "      <th>km_per_year</th>\n",
       "      <th>Price_per_ps</th>\n",
       "    </tr>\n",
       "  </thead>\n",
       "  <tbody>\n",
       "    <tr>\n",
       "      <th>year_raw</th>\n",
       "      <td>48.445873</td>\n",
       "      <td>-1.799826e+05</td>\n",
       "      <td>1.085751e+02</td>\n",
       "      <td>3.953548e+04</td>\n",
       "      <td>NaN</td>\n",
       "      <td>5.701953e+01</td>\n",
       "    </tr>\n",
       "    <tr>\n",
       "      <th>km_raw</th>\n",
       "      <td>-179982.643164</td>\n",
       "      <td>3.391659e+09</td>\n",
       "      <td>-7.255785e+05</td>\n",
       "      <td>-8.809698e+08</td>\n",
       "      <td>NaN</td>\n",
       "      <td>-3.669149e+06</td>\n",
       "    </tr>\n",
       "    <tr>\n",
       "      <th>ps_raw</th>\n",
       "      <td>108.575149</td>\n",
       "      <td>-7.255785e+05</td>\n",
       "      <td>1.285020e+04</td>\n",
       "      <td>2.733385e+06</td>\n",
       "      <td>NaN</td>\n",
       "      <td>4.296099e+02</td>\n",
       "    </tr>\n",
       "    <tr>\n",
       "      <th>price_raw</th>\n",
       "      <td>39535.482617</td>\n",
       "      <td>-8.809698e+08</td>\n",
       "      <td>2.733385e+06</td>\n",
       "      <td>1.316627e+09</td>\n",
       "      <td>NaN</td>\n",
       "      <td>2.907523e+06</td>\n",
       "    </tr>\n",
       "    <tr>\n",
       "      <th>km_per_year</th>\n",
       "      <td>NaN</td>\n",
       "      <td>NaN</td>\n",
       "      <td>NaN</td>\n",
       "      <td>NaN</td>\n",
       "      <td>NaN</td>\n",
       "      <td>NaN</td>\n",
       "    </tr>\n",
       "    <tr>\n",
       "      <th>Price_per_ps</th>\n",
       "      <td>57.019532</td>\n",
       "      <td>-3.669149e+06</td>\n",
       "      <td>4.296099e+02</td>\n",
       "      <td>2.907523e+06</td>\n",
       "      <td>NaN</td>\n",
       "      <td>1.719284e+04</td>\n",
       "    </tr>\n",
       "  </tbody>\n",
       "</table>\n",
       "</div>"
      ],
      "text/plain": [
       "                   year_raw        km_raw        ps_raw     price_raw  \\\n",
       "year_raw          48.445873 -1.799826e+05  1.085751e+02  3.953548e+04   \n",
       "km_raw       -179982.643164  3.391659e+09 -7.255785e+05 -8.809698e+08   \n",
       "ps_raw           108.575149 -7.255785e+05  1.285020e+04  2.733385e+06   \n",
       "price_raw      39535.482617 -8.809698e+08  2.733385e+06  1.316627e+09   \n",
       "km_per_year             NaN           NaN           NaN           NaN   \n",
       "Price_per_ps      57.019532 -3.669149e+06  4.296099e+02  2.907523e+06   \n",
       "\n",
       "              km_per_year  Price_per_ps  \n",
       "year_raw              NaN  5.701953e+01  \n",
       "km_raw                NaN -3.669149e+06  \n",
       "ps_raw                NaN  4.296099e+02  \n",
       "price_raw             NaN  2.907523e+06  \n",
       "km_per_year           NaN           NaN  \n",
       "Price_per_ps          NaN  1.719284e+04  "
      ]
     },
     "execution_count": 11,
     "metadata": {},
     "output_type": "execute_result"
    }
   ],
   "source": [
    "cov = df_numeric.cov()\n",
    "cov\n",
    "\n"
   ]
  },
  {
   "cell_type": "markdown",
   "id": "b89e07fc",
   "metadata": {},
   "source": [
    "# The strongest negative covariance has kilometers and year. That means the more kilometers a car has the less expensive it is. \n"
   ]
  },
  {
   "cell_type": "code",
   "execution_count": 12,
   "id": "0317e922",
   "metadata": {},
   "outputs": [
    {
     "data": {
      "image/png": "[encoded data removed]",
      "text/plain": [
       "<Figure size 700x400 with 1 Axes>"
      ]
     },
     "metadata": {},
     "output_type": "display_data"
    }
   ],
   "source": [
    "x= df['ps_raw']\n",
    "y= df['price_raw']\n",
    "\n",
    "fig = plt.figure(figsize=(7,4))\n",
    "plt.scatter(x, y, color=\"green\")\n",
    "plt.title('Prices compared with hp', fontsize=15)\n",
    "plt.xlabel('horsepower', fontsize=10)\n",
    "plt.ylabel('cost in Fr', fontsize=10)\n",
    "plt.xticks(fontsize=10)\n",
    "plt.yticks(fontsize=10)\n",
    "#plt.ylim([0,200000])\n",
    "plt.show()"
   ]
  },
  {
   "cell_type": "code",
   "execution_count": 13,
   "id": "5f27587c",
   "metadata": {},
   "outputs": [
    {
     "data": {
      "image/png": "[encoded data removed]",
      "text/plain": [
       "<Figure size 700x400 with 1 Axes>"
      ]
     },
     "metadata": {},
     "output_type": "display_data"
    }
   ],
   "source": [
    "# Plot Histogram\n",
    "fig = plt.figure( figsize=(7,4))\n",
    "plt.xticks(fontsize=14, rotation=0)\n",
    "plt.yticks(fontsize=14, rotation=0)\n",
    "n, bins, patches = plt.hist(x=df_numeric['Price_per_ps'], \n",
    "                            bins=20, \n",
    "                            color='#42AD12',\n",
    "                            alpha=0.5, \n",
    "                            rwidth=0.95\n",
    "                   )\n",
    "plt.grid(True)\n",
    "plt.ticklabel_format(style='plain')\n",
    "plt.grid(axis='y', alpha=0.75)\n",
    "\n",
    "# Set labels\n",
    "plt.xlabel('Price_per_ps', fontsize=10, labelpad=10)\n",
    "plt.ylabel('Frequency', fontsize=10, labelpad=10)\n",
    "plt.title('Histogram of Price_per_ps', fontsize=12, pad=10)\n",
    "\n",
    "# Set fontsize of tick labels\n",
    "plt.xticks(fontsize = 10)\n",
    "plt.yticks(fontsize = 10)\n",
    "\n",
    "plt.show()\n",
    "\n",
    "#was?"
   ]
  },
  {
   "cell_type": "markdown",
   "id": "1c9e762b",
   "metadata": {},
   "source": [
    "# Scatterplot"
   ]
  },
  {
   "cell_type": "code",
   "execution_count": 14,
   "id": "986fe74f",
   "metadata": {},
   "outputs": [
    {
     "data": {
      "text/plain": [
       "<seaborn.axisgrid.PairGrid at 0x1b3a9853970>"
      ]
     },
     "execution_count": 14,
     "metadata": {},
     "output_type": "execute_result"
    },
    {
     "data": {
      "image/png": "[encoded data removed]",
      "text/plain": [
       "<Figure size 480x480 with 20 Axes>"
      ]
     },
     "metadata": {},
     "output_type": "display_data"
    }
   ],
   "source": [
    "import seaborn as sns\n",
    "import matplotlib.pyplot as plt\n",
    "import statsmodels.api as sm\n",
    "import pylab as py\n",
    "\n",
    "sns.set(style=\"ticks\", font_scale=0.8)\n",
    "g = sns.PairGrid(df[['year_raw', \n",
    "                     'km_raw', \n",
    "                     'ps_raw', \n",
    "                     'price_raw']], \n",
    "                 height=1.2, \n",
    "                 aspect=1)\n",
    "g.map_upper(sns.scatterplot,color='darkgreen', s=10)\n",
    "g.map_lower(sns.scatterplot, color='darkgreen', s=10)\n",
    "g.map_diag(plt.hist, color='brown')"
   ]
  },
  {
   "cell_type": "code",
   "execution_count": 15,
   "id": "f8833744",
   "metadata": {},
   "outputs": [
    {
     "data": {
      "text/html": [
       "<div>\n",
       "<style scoped>\n",
       "    .dataframe tbody tr th:only-of-type {\n",
       "        vertical-align: middle;\n",
       "    }\n",
       "\n",
       "    .dataframe tbody tr th {\n",
       "        vertical-align: top;\n",
       "    }\n",
       "\n",
       "    .dataframe thead th {\n",
       "        text-align: right;\n",
       "    }\n",
       "</style>\n",
       "<table border=\"1\" class=\"dataframe\">\n",
       "  <thead>\n",
       "    <tr style=\"text-align: right;\">\n",
       "      <th></th>\n",
       "      <th>web-scraper-order</th>\n",
       "      <th>web-scraper-start-url</th>\n",
       "      <th>brand_raw</th>\n",
       "      <th>year_raw</th>\n",
       "      <th>km_raw</th>\n",
       "      <th>ps_raw</th>\n",
       "      <th>place_raw</th>\n",
       "      <th>price_raw</th>\n",
       "      <th>modell_raw</th>\n",
       "      <th>gear_raw</th>\n",
       "      <th>fuel_raw</th>\n",
       "    </tr>\n",
       "  </thead>\n",
       "  <tbody>\n",
       "    <tr>\n",
       "      <th>3</th>\n",
       "      <td>1671628590-154</td>\n",
       "      <td>https://www.autolina.ch/carList/page/50?region=ZH</td>\n",
       "      <td>TOYOTA</td>\n",
       "      <td>2010.0</td>\n",
       "      <td>90100</td>\n",
       "      <td>90</td>\n",
       "      <td>8903 Birmensdorf / ZH</td>\n",
       "      <td>7800</td>\n",
       "      <td>UrbanCruiser 1.4 D-4D Linea Luna 4WD</td>\n",
       "      <td>Handschaltung</td>\n",
       "      <td>Diesel</td>\n",
       "    </tr>\n",
       "    <tr>\n",
       "      <th>8</th>\n",
       "      <td>1671628590-159</td>\n",
       "      <td>https://www.autolina.ch/carList/page/50?region=ZH</td>\n",
       "      <td>OPEL</td>\n",
       "      <td>2005.0</td>\n",
       "      <td>192000</td>\n",
       "      <td>101</td>\n",
       "      <td>8903 Birmensdorf / ZH</td>\n",
       "      <td>2900</td>\n",
       "      <td>Meriva 1.6i 16V Enjoy</td>\n",
       "      <td>Handschaltung</td>\n",
       "      <td>Benzin</td>\n",
       "    </tr>\n",
       "    <tr>\n",
       "      <th>53</th>\n",
       "      <td>1671628600-204</td>\n",
       "      <td>https://www.autolina.ch/carList/page/47?region=ZH</td>\n",
       "      <td>FORD</td>\n",
       "      <td>2012.0</td>\n",
       "      <td>161000</td>\n",
       "      <td>125</td>\n",
       "      <td>8340 Hinwil / ZH</td>\n",
       "      <td>3600</td>\n",
       "      <td>Focus 1.0 SCTi Carving</td>\n",
       "      <td>Handschaltung</td>\n",
       "      <td>Benzin</td>\n",
       "    </tr>\n",
       "    <tr>\n",
       "      <th>58</th>\n",
       "      <td>1671628600-209</td>\n",
       "      <td>https://www.autolina.ch/carList/page/47?region=ZH</td>\n",
       "      <td>FORD</td>\n",
       "      <td>2006.0</td>\n",
       "      <td>98000</td>\n",
       "      <td>150</td>\n",
       "      <td>8618 Oetwil am See / ZH</td>\n",
       "      <td>3400</td>\n",
       "      <td>Maverick 2.3 16V</td>\n",
       "      <td>Handschaltung</td>\n",
       "      <td>Benzin</td>\n",
       "    </tr>\n",
       "    <tr>\n",
       "      <th>59</th>\n",
       "      <td>1671628600-210</td>\n",
       "      <td>https://www.autolina.ch/carList/page/47?region=ZH</td>\n",
       "      <td>FORD</td>\n",
       "      <td>2007.0</td>\n",
       "      <td>239000</td>\n",
       "      <td>155</td>\n",
       "      <td>8618 Oetwil am See / ZH</td>\n",
       "      <td>5900</td>\n",
       "      <td>Escape XLT HYBRID</td>\n",
       "      <td>Automat</td>\n",
       "      <td>Voll-Hybrid Benzin/Elektro</td>\n",
       "    </tr>\n",
       "  </tbody>\n",
       "</table>\n",
       "</div>"
      ],
      "text/plain": [
       "   web-scraper-order                              web-scraper-start-url  \\\n",
       "3     1671628590-154  https://www.autolina.ch/carList/page/50?region=ZH   \n",
       "8     1671628590-159  https://www.autolina.ch/carList/page/50?region=ZH   \n",
       "53    1671628600-204  https://www.autolina.ch/carList/page/47?region=ZH   \n",
       "58    1671628600-209  https://www.autolina.ch/carList/page/47?region=ZH   \n",
       "59    1671628600-210  https://www.autolina.ch/carList/page/47?region=ZH   \n",
       "\n",
       "   brand_raw  year_raw  km_raw  ps_raw                place_raw  price_raw  \\\n",
       "3     TOYOTA    2010.0   90100      90    8903 Birmensdorf / ZH       7800   \n",
       "8       OPEL    2005.0  192000     101    8903 Birmensdorf / ZH       2900   \n",
       "53      FORD    2012.0  161000     125         8340 Hinwil / ZH       3600   \n",
       "58      FORD    2006.0   98000     150  8618 Oetwil am See / ZH       3400   \n",
       "59      FORD    2007.0  239000     155  8618 Oetwil am See / ZH       5900   \n",
       "\n",
       "                              modell_raw       gear_raw  \\\n",
       "3   UrbanCruiser 1.4 D-4D Linea Luna 4WD  Handschaltung   \n",
       "8                  Meriva 1.6i 16V Enjoy  Handschaltung   \n",
       "53                Focus 1.0 SCTi Carving  Handschaltung   \n",
       "58                      Maverick 2.3 16V  Handschaltung   \n",
       "59                     Escape XLT HYBRID        Automat   \n",
       "\n",
       "                      fuel_raw  \n",
       "3                       Diesel  \n",
       "8                       Benzin  \n",
       "53                      Benzin  \n",
       "58                      Benzin  \n",
       "59  Voll-Hybrid Benzin/Elektro  "
      ]
     },
     "execution_count": 15,
     "metadata": {},
     "output_type": "execute_result"
    }
   ],
   "source": [
    "# Low cost cars\n",
    "df[df.price_raw <= 8000].head()"
   ]
  },
  {
   "cell_type": "code",
   "execution_count": 16,
   "id": "e9592d34",
   "metadata": {},
   "outputs": [
    {
     "data": {
      "text/html": [
       "<div>\n",
       "<style scoped>\n",
       "    .dataframe tbody tr th:only-of-type {\n",
       "        vertical-align: middle;\n",
       "    }\n",
       "\n",
       "    .dataframe tbody tr th {\n",
       "        vertical-align: top;\n",
       "    }\n",
       "\n",
       "    .dataframe thead th {\n",
       "        text-align: right;\n",
       "    }\n",
       "</style>\n",
       "<table border=\"1\" class=\"dataframe\">\n",
       "  <thead>\n",
       "    <tr style=\"text-align: right;\">\n",
       "      <th></th>\n",
       "      <th>web-scraper-order</th>\n",
       "      <th>web-scraper-start-url</th>\n",
       "      <th>brand_raw</th>\n",
       "      <th>year_raw</th>\n",
       "      <th>km_raw</th>\n",
       "      <th>ps_raw</th>\n",
       "      <th>place_raw</th>\n",
       "      <th>price_raw</th>\n",
       "      <th>modell_raw</th>\n",
       "      <th>gear_raw</th>\n",
       "      <th>fuel_raw</th>\n",
       "    </tr>\n",
       "  </thead>\n",
       "  <tbody>\n",
       "    <tr>\n",
       "      <th>38</th>\n",
       "      <td>1671628597-189</td>\n",
       "      <td>https://www.autolina.ch/carList/page/48?region=ZH</td>\n",
       "      <td>BMW</td>\n",
       "      <td>2020.0</td>\n",
       "      <td>14500</td>\n",
       "      <td>400</td>\n",
       "      <td>8953 Dietikon / ZH</td>\n",
       "      <td>109900</td>\n",
       "      <td>X7 M50d</td>\n",
       "      <td>Automat</td>\n",
       "      <td>Diesel</td>\n",
       "    </tr>\n",
       "    <tr>\n",
       "      <th>48</th>\n",
       "      <td>1671628600-199</td>\n",
       "      <td>https://www.autolina.ch/carList/page/47?region=ZH</td>\n",
       "      <td>PORSCHE</td>\n",
       "      <td>2019.0</td>\n",
       "      <td>87700</td>\n",
       "      <td>680</td>\n",
       "      <td>8048 Zürich / ZH</td>\n",
       "      <td>127000</td>\n",
       "      <td>Panamera Turbo S E-Hybrid Sport Turismo PDK</td>\n",
       "      <td>Automat</td>\n",
       "      <td>Plug-in-Hybrid Benzin/Elektro</td>\n",
       "    </tr>\n",
       "    <tr>\n",
       "      <th>49</th>\n",
       "      <td>1671628600-200</td>\n",
       "      <td>https://www.autolina.ch/carList/page/47?region=ZH</td>\n",
       "      <td>PORSCHE</td>\n",
       "      <td>2017.0</td>\n",
       "      <td>18000</td>\n",
       "      <td>440</td>\n",
       "      <td>8048 Zürich / ZH</td>\n",
       "      <td>124900</td>\n",
       "      <td>Panamera TECH ART</td>\n",
       "      <td>Automat</td>\n",
       "      <td>Benzin</td>\n",
       "    </tr>\n",
       "    <tr>\n",
       "      <th>50</th>\n",
       "      <td>1671628600-201</td>\n",
       "      <td>https://www.autolina.ch/carList/page/47?region=ZH</td>\n",
       "      <td>PORSCHE</td>\n",
       "      <td>2019.0</td>\n",
       "      <td>15000</td>\n",
       "      <td>450</td>\n",
       "      <td>8048 Zürich / ZH</td>\n",
       "      <td>159000</td>\n",
       "      <td>911 Carrera S TECH ART</td>\n",
       "      <td>Automat</td>\n",
       "      <td>Benzin</td>\n",
       "    </tr>\n",
       "    <tr>\n",
       "      <th>121</th>\n",
       "      <td>1671628616-272</td>\n",
       "      <td>https://www.autolina.ch/carList/page/42?region=ZH</td>\n",
       "      <td>PORSCHE</td>\n",
       "      <td>2022.0</td>\n",
       "      <td>15500</td>\n",
       "      <td>480</td>\n",
       "      <td>8008 Zürich / ZH</td>\n",
       "      <td>177500</td>\n",
       "      <td>911 Carrera 4 GTS</td>\n",
       "      <td>Automat</td>\n",
       "      <td>rot</td>\n",
       "    </tr>\n",
       "  </tbody>\n",
       "</table>\n",
       "</div>"
      ],
      "text/plain": [
       "    web-scraper-order                              web-scraper-start-url  \\\n",
       "38     1671628597-189  https://www.autolina.ch/carList/page/48?region=ZH   \n",
       "48     1671628600-199  https://www.autolina.ch/carList/page/47?region=ZH   \n",
       "49     1671628600-200  https://www.autolina.ch/carList/page/47?region=ZH   \n",
       "50     1671628600-201  https://www.autolina.ch/carList/page/47?region=ZH   \n",
       "121    1671628616-272  https://www.autolina.ch/carList/page/42?region=ZH   \n",
       "\n",
       "    brand_raw  year_raw  km_raw  ps_raw           place_raw  price_raw  \\\n",
       "38        BMW    2020.0   14500     400  8953 Dietikon / ZH     109900   \n",
       "48    PORSCHE    2019.0   87700     680    8048 Zürich / ZH     127000   \n",
       "49    PORSCHE    2017.0   18000     440    8048 Zürich / ZH     124900   \n",
       "50    PORSCHE    2019.0   15000     450    8048 Zürich / ZH     159000   \n",
       "121   PORSCHE    2022.0   15500     480    8008 Zürich / ZH     177500   \n",
       "\n",
       "                                      modell_raw gear_raw  \\\n",
       "38                                       X7 M50d  Automat   \n",
       "48   Panamera Turbo S E-Hybrid Sport Turismo PDK  Automat   \n",
       "49                             Panamera TECH ART  Automat   \n",
       "50                        911 Carrera S TECH ART  Automat   \n",
       "121                            911 Carrera 4 GTS  Automat   \n",
       "\n",
       "                          fuel_raw  \n",
       "38                          Diesel  \n",
       "48   Plug-in-Hybrid Benzin/Elektro  \n",
       "49                          Benzin  \n",
       "50                          Benzin  \n",
       "121                            rot  "
      ]
     },
     "execution_count": 16,
     "metadata": {},
     "output_type": "execute_result"
    }
   ],
   "source": [
    "# high cost cars\n",
    "df[df.price_raw >= 100000].head()"
   ]
  },
  {
   "cell_type": "code",
   "execution_count": 17,
   "id": "5c43a06f",
   "metadata": {},
   "outputs": [
    {
     "data": {
      "text/html": [
       "<div>\n",
       "<style scoped>\n",
       "    .dataframe tbody tr th:only-of-type {\n",
       "        vertical-align: middle;\n",
       "    }\n",
       "\n",
       "    .dataframe tbody tr th {\n",
       "        vertical-align: top;\n",
       "    }\n",
       "\n",
       "    .dataframe thead th {\n",
       "        text-align: right;\n",
       "    }\n",
       "</style>\n",
       "<table border=\"1\" class=\"dataframe\">\n",
       "  <thead>\n",
       "    <tr style=\"text-align: right;\">\n",
       "      <th></th>\n",
       "      <th>web-scraper-order</th>\n",
       "      <th>web-scraper-start-url</th>\n",
       "      <th>brand_raw</th>\n",
       "      <th>year_raw</th>\n",
       "      <th>km_raw</th>\n",
       "      <th>ps_raw</th>\n",
       "      <th>place_raw</th>\n",
       "      <th>price_raw</th>\n",
       "      <th>modell_raw</th>\n",
       "      <th>gear_raw</th>\n",
       "      <th>fuel_raw</th>\n",
       "    </tr>\n",
       "  </thead>\n",
       "  <tbody>\n",
       "    <tr>\n",
       "      <th>48</th>\n",
       "      <td>1671628600-199</td>\n",
       "      <td>https://www.autolina.ch/carList/page/47?region=ZH</td>\n",
       "      <td>PORSCHE</td>\n",
       "      <td>2019.0</td>\n",
       "      <td>87700</td>\n",
       "      <td>680</td>\n",
       "      <td>8048 Zürich / ZH</td>\n",
       "      <td>127000</td>\n",
       "      <td>Panamera Turbo S E-Hybrid Sport Turismo PDK</td>\n",
       "      <td>Automat</td>\n",
       "      <td>Plug-in-Hybrid Benzin/Elektro</td>\n",
       "    </tr>\n",
       "    <tr>\n",
       "      <th>87</th>\n",
       "      <td>1671628607-238</td>\n",
       "      <td>https://www.autolina.ch/carList/page/45?region=ZH</td>\n",
       "      <td>JAGUAR</td>\n",
       "      <td>2020.0</td>\n",
       "      <td>26700</td>\n",
       "      <td>550</td>\n",
       "      <td>8408 Winterthur-Wülflingen / ZH</td>\n",
       "      <td>88895</td>\n",
       "      <td>F-Pace 5.0 V8 SVR AWD Automatik</td>\n",
       "      <td>Automat</td>\n",
       "      <td>Benzin</td>\n",
       "    </tr>\n",
       "    <tr>\n",
       "      <th>188</th>\n",
       "      <td>1671628630-339</td>\n",
       "      <td>https://www.autolina.ch/carList/page/38?region=ZH</td>\n",
       "      <td>LAMBORGHINI</td>\n",
       "      <td>2021.0</td>\n",
       "      <td>17300</td>\n",
       "      <td>650</td>\n",
       "      <td>8307 Effretikon / ZH</td>\n",
       "      <td>299900</td>\n",
       "      <td>Urus</td>\n",
       "      <td>Automat</td>\n",
       "      <td>Benzin</td>\n",
       "    </tr>\n",
       "    <tr>\n",
       "      <th>190</th>\n",
       "      <td>1671628630-341</td>\n",
       "      <td>https://www.autolina.ch/carList/page/38?region=ZH</td>\n",
       "      <td>ASTON MARTIN</td>\n",
       "      <td>2020.0</td>\n",
       "      <td>1990</td>\n",
       "      <td>608</td>\n",
       "      <td>8307 Effretikon / ZH</td>\n",
       "      <td>159900</td>\n",
       "      <td>DB11 V12</td>\n",
       "      <td>Automat</td>\n",
       "      <td>Benzin</td>\n",
       "    </tr>\n",
       "    <tr>\n",
       "      <th>300</th>\n",
       "      <td>1671628656-451</td>\n",
       "      <td>https://www.autolina.ch/carList/page/30?region=ZH</td>\n",
       "      <td>LAND ROVER</td>\n",
       "      <td>2022.0</td>\n",
       "      <td>5600</td>\n",
       "      <td>525</td>\n",
       "      <td>8712 Stäfa / ZH</td>\n",
       "      <td>159900</td>\n",
       "      <td>Defender 90 525 V8</td>\n",
       "      <td>Automat</td>\n",
       "      <td>Benzin</td>\n",
       "    </tr>\n",
       "  </tbody>\n",
       "</table>\n",
       "</div>"
      ],
      "text/plain": [
       "    web-scraper-order                              web-scraper-start-url  \\\n",
       "48     1671628600-199  https://www.autolina.ch/carList/page/47?region=ZH   \n",
       "87     1671628607-238  https://www.autolina.ch/carList/page/45?region=ZH   \n",
       "188    1671628630-339  https://www.autolina.ch/carList/page/38?region=ZH   \n",
       "190    1671628630-341  https://www.autolina.ch/carList/page/38?region=ZH   \n",
       "300    1671628656-451  https://www.autolina.ch/carList/page/30?region=ZH   \n",
       "\n",
       "        brand_raw  year_raw  km_raw  ps_raw                        place_raw  \\\n",
       "48        PORSCHE    2019.0   87700     680                 8048 Zürich / ZH   \n",
       "87         JAGUAR    2020.0   26700     550  8408 Winterthur-Wülflingen / ZH   \n",
       "188   LAMBORGHINI    2021.0   17300     650             8307 Effretikon / ZH   \n",
       "190  ASTON MARTIN    2020.0    1990     608             8307 Effretikon / ZH   \n",
       "300    LAND ROVER    2022.0    5600     525                  8712 Stäfa / ZH   \n",
       "\n",
       "     price_raw                                   modell_raw gear_raw  \\\n",
       "48      127000  Panamera Turbo S E-Hybrid Sport Turismo PDK  Automat   \n",
       "87       88895              F-Pace 5.0 V8 SVR AWD Automatik  Automat   \n",
       "188     299900                                         Urus  Automat   \n",
       "190     159900                                     DB11 V12  Automat   \n",
       "300     159900                           Defender 90 525 V8  Automat   \n",
       "\n",
       "                          fuel_raw  \n",
       "48   Plug-in-Hybrid Benzin/Elektro  \n",
       "87                          Benzin  \n",
       "188                         Benzin  \n",
       "190                         Benzin  \n",
       "300                         Benzin  "
      ]
     },
     "execution_count": 17,
     "metadata": {},
     "output_type": "execute_result"
    }
   ],
   "source": [
    "# high ps cars\n",
    "df[df.ps_raw >= 511].head()"
   ]
  },
  {
   "cell_type": "markdown",
   "id": "0ad51035",
   "metadata": {},
   "source": [
    "# Remove outliers"
   ]
  },
  {
   "cell_type": "code",
   "execution_count": 18,
   "id": "c26a673b",
   "metadata": {},
   "outputs": [],
   "source": [
    "q_low = df_clean[\"price_raw\"].quantile(0.01)\n",
    "q_hi  = df_clean[\"price_raw\"].quantile(0.99)\n",
    "\n",
    "df_filtered = df_clean[(df_clean[\"price_raw\"] < q_hi) & (df_clean[\"price_raw\"] > q_low)]"
   ]
  },
  {
   "cell_type": "markdown",
   "id": "eff0d893",
   "metadata": {},
   "source": [
    "# Boxplot (seaborn)"
   ]
  },
  {
   "cell_type": "code",
   "execution_count": 19,
   "id": "40591425",
   "metadata": {},
   "outputs": [
    {
     "data": {
      "text/plain": [
       "<AxesSubplot: xlabel='price_raw'>"
      ]
     },
     "execution_count": 19,
     "metadata": {},
     "output_type": "execute_result"
    },
    {
     "data": {
      "image/png": "[encoded data removed]",
      "text/plain": [
       "<Figure size 1500x120 with 1 Axes>"
      ]
     },
     "metadata": {},
     "output_type": "display_data"
    }
   ],
   "source": [
    "plt.figure(figsize=(15,1.2))\n",
    "plt.ticklabel_format(style='plain')\n",
    "sns.boxplot(x=df_filtered['price_raw'], color=\"greenyellow\")"
   ]
  },
  {
   "cell_type": "markdown",
   "id": "d82b0cfd",
   "metadata": {},
   "source": [
    "# Create Dataframe for Classification Model"
   ]
  },
  {
   "cell_type": "code",
   "execution_count": 20,
   "id": "6b6a33bf",
   "metadata": {},
   "outputs": [
    {
     "name": "stdout",
     "output_type": "stream",
     "text": [
      "     year_raw  ps_raw       gear_raw fuel_raw  price_raw\n",
      "2      2015.0     333        Automat   Benzin      29999\n",
      "3      2010.0      90  Handschaltung   Diesel       7800\n",
      "4      2017.0     190        Automat   Diesel      24500\n",
      "5      2018.0     250        Automat   Benzin      37500\n",
      "6      2016.0     180  Handschaltung   Benzin      17500\n",
      "..        ...     ...            ...      ...        ...\n",
      "745    2020.0     163        Automat   Diesel      44900\n",
      "746    2015.0     190        Automat   Diesel      18900\n",
      "747    2015.0      95  Handschaltung   Benzin      12900\n",
      "748    2019.0     476        Automat   Benzin      79900\n",
      "749    2016.0     449        Automat   Benzin      57900\n",
      "\n",
      "[615 rows x 5 columns]\n"
     ]
    }
   ],
   "source": [
    "df_model=df[['year_raw','ps_raw','gear_raw','fuel_raw','price_raw']]\n",
    "print(df_model)"
   ]
  },
  {
   "cell_type": "code",
   "execution_count": 21,
   "id": "e86fff11",
   "metadata": {},
   "outputs": [
    {
     "data": {
      "text/html": [
       "<div>\n",
       "<style scoped>\n",
       "    .dataframe tbody tr th:only-of-type {\n",
       "        vertical-align: middle;\n",
       "    }\n",
       "\n",
       "    .dataframe tbody tr th {\n",
       "        vertical-align: top;\n",
       "    }\n",
       "\n",
       "    .dataframe thead th {\n",
       "        text-align: right;\n",
       "    }\n",
       "</style>\n",
       "<table border=\"1\" class=\"dataframe\">\n",
       "  <thead>\n",
       "    <tr style=\"text-align: right;\">\n",
       "      <th></th>\n",
       "      <th>Handschaltung</th>\n",
       "      <th>Automat</th>\n",
       "    </tr>\n",
       "  </thead>\n",
       "  <tbody>\n",
       "    <tr>\n",
       "      <th>2</th>\n",
       "      <td>0</td>\n",
       "      <td>1</td>\n",
       "    </tr>\n",
       "    <tr>\n",
       "      <th>3</th>\n",
       "      <td>1</td>\n",
       "      <td>0</td>\n",
       "    </tr>\n",
       "    <tr>\n",
       "      <th>4</th>\n",
       "      <td>0</td>\n",
       "      <td>1</td>\n",
       "    </tr>\n",
       "    <tr>\n",
       "      <th>5</th>\n",
       "      <td>0</td>\n",
       "      <td>1</td>\n",
       "    </tr>\n",
       "    <tr>\n",
       "      <th>6</th>\n",
       "      <td>1</td>\n",
       "      <td>0</td>\n",
       "    </tr>\n",
       "  </tbody>\n",
       "</table>\n",
       "</div>"
      ],
      "text/plain": [
       "   Handschaltung  Automat\n",
       "2              0        1\n",
       "3              1        0\n",
       "4              0        1\n",
       "5              0        1\n",
       "6              1        0"
      ]
     },
     "execution_count": 21,
     "metadata": {},
     "output_type": "execute_result"
    }
   ],
   "source": [
    "Handschaltung= pd.get_dummies(df_model['gear_raw'], drop_first=False)\n",
    "Handschaltung[['Handschaltung', 'Automat']].head()"
   ]
  },
  {
   "cell_type": "code",
   "execution_count": 22,
   "id": "0ca14456",
   "metadata": {},
   "outputs": [
    {
     "data": {
      "text/html": [
       "<div>\n",
       "<style scoped>\n",
       "    .dataframe tbody tr th:only-of-type {\n",
       "        vertical-align: middle;\n",
       "    }\n",
       "\n",
       "    .dataframe tbody tr th {\n",
       "        vertical-align: top;\n",
       "    }\n",
       "\n",
       "    .dataframe thead th {\n",
       "        text-align: right;\n",
       "    }\n",
       "</style>\n",
       "<table border=\"1\" class=\"dataframe\">\n",
       "  <thead>\n",
       "    <tr style=\"text-align: right;\">\n",
       "      <th></th>\n",
       "      <th>Benzin</th>\n",
       "      <th>Diesel</th>\n",
       "    </tr>\n",
       "  </thead>\n",
       "  <tbody>\n",
       "    <tr>\n",
       "      <th>2</th>\n",
       "      <td>1</td>\n",
       "      <td>0</td>\n",
       "    </tr>\n",
       "    <tr>\n",
       "      <th>3</th>\n",
       "      <td>0</td>\n",
       "      <td>1</td>\n",
       "    </tr>\n",
       "    <tr>\n",
       "      <th>4</th>\n",
       "      <td>0</td>\n",
       "      <td>1</td>\n",
       "    </tr>\n",
       "    <tr>\n",
       "      <th>5</th>\n",
       "      <td>1</td>\n",
       "      <td>0</td>\n",
       "    </tr>\n",
       "    <tr>\n",
       "      <th>6</th>\n",
       "      <td>1</td>\n",
       "      <td>0</td>\n",
       "    </tr>\n",
       "  </tbody>\n",
       "</table>\n",
       "</div>"
      ],
      "text/plain": [
       "   Benzin  Diesel\n",
       "2       1       0\n",
       "3       0       1\n",
       "4       0       1\n",
       "5       1       0\n",
       "6       1       0"
      ]
     },
     "execution_count": 22,
     "metadata": {},
     "output_type": "execute_result"
    }
   ],
   "source": [
    "df_fuel=df[df[\"fuel_raw\"].str.contains(\"Hybrid\")==False]\n",
    "Fuel= pd.get_dummies(df_fuel['fuel_raw'], drop_first=False)\n",
    "Fuel[['Benzin', 'Diesel']].head()"
   ]
  },
  {
   "cell_type": "code",
   "execution_count": 23,
   "id": "f926b71a",
   "metadata": {},
   "outputs": [
    {
     "name": "stdout",
     "output_type": "stream",
     "text": [
      "     year_raw  ps_raw  gear_raw  fuel_raw  price_raw\n",
      "2      2015.0     333         0       1.0      29999\n",
      "3      2010.0      90         1       0.0       7800\n",
      "4      2017.0     190         0       0.0      24500\n",
      "5      2018.0     250         0       1.0      37500\n",
      "6      2016.0     180         1       1.0      17500\n",
      "..        ...     ...       ...       ...        ...\n",
      "745    2020.0     163         0       0.0      44900\n",
      "746    2015.0     190         0       0.0      18900\n",
      "747    2015.0      95         1       1.0      12900\n",
      "748    2019.0     476         0       1.0      79900\n",
      "749    2016.0     449         0       1.0      57900\n",
      "\n",
      "[579 rows x 5 columns]\n"
     ]
    }
   ],
   "source": [
    "df_model['fuel_raw']=Fuel['Benzin']\n",
    "df_model['gear_raw']=Handschaltung['Handschaltung']\n",
    "df_model=df_model.dropna()\n",
    "df_model=df_model.astype({'price_raw':'int'})\n",
    "print(df_model)"
   ]
  },
  {
   "cell_type": "code",
   "execution_count": 24,
   "id": "4d86e0e6",
   "metadata": {},
   "outputs": [
    {
     "name": "stdout",
     "output_type": "stream",
     "text": [
      "X_train:\n",
      "     price_raw  fuel_raw  ps_raw  year_raw\n",
      "117      26900       0.0     170    2018.0\n",
      "710      14900       0.0     184    2011.0\n",
      "163      42900       0.0     313    2017.0\n",
      "460      25900       0.0     136    2017.0\n",
      "414      12980       1.0      99    2014.0 \n",
      "\n",
      "y_train:\n",
      "117    0\n",
      "710    0\n",
      "163    0\n",
      "460    0\n",
      "414    0\n",
      "Name: gear_raw, dtype: uint8\n"
     ]
    }
   ],
   "source": [
    "X_train, X_test, y_train, y_test = train_test_split(df_model[[ 'price_raw',\n",
    "                                                                'fuel_raw',\n",
    "                                                                'ps_raw',\n",
    "                                                                'year_raw']], \n",
    "                                                                df_model['gear_raw'], \n",
    "                                                                test_size=0.20, \n",
    "                                                                random_state=42)\n",
    "print('X_train:')\n",
    "print(X_train.head(), '\\n')\n",
    "\n",
    "# Show y_train\n",
    "print('y_train:')\n",
    "print(y_train.head())"
   ]
  },
  {
   "cell_type": "code",
   "execution_count": 25,
   "id": "9339a522",
   "metadata": {},
   "outputs": [
    {
     "data": {
      "text/plain": [
       "array([0, 0, 1, 0, 0, 0, 0, 0, 0, 0, 0, 1, 0, 0, 0, 1, 0, 0, 0, 0, 0, 1,\n",
       "       0, 0, 0, 0, 1, 1, 1, 0, 0, 0, 0, 0, 0, 1, 0, 0, 0, 0, 0, 0, 0, 0,\n",
       "       0, 0, 0, 1, 0, 0, 0, 0, 0, 0, 0, 0, 0, 1, 0, 1, 0, 1, 0, 1, 0, 0,\n",
       "       0, 0, 1, 0, 0, 0, 0, 0, 0, 0, 1, 0, 0, 0, 0, 0, 0, 1, 0, 0, 0, 0,\n",
       "       0, 1, 0, 0, 0, 0, 0, 0, 1, 1, 0, 0, 0, 0, 0, 1, 0, 1, 1, 0, 1, 0,\n",
       "       0, 0, 0, 0, 1, 0], dtype=uint8)"
      ]
     },
     "execution_count": 25,
     "metadata": {},
     "output_type": "execute_result"
    }
   ],
   "source": [
    "# Initialize the classification tree model \n",
    "clf = DecisionTreeClassifier(random_state=20, \n",
    "                             max_depth=3)\n",
    "\n",
    "# Train the classification tree model \n",
    "clf = clf.fit(X_train, y_train)\n",
    "\n",
    "# Make model predictions\n",
    "y_pred = clf.predict(X_test)\n",
    "y_pred\n",
    "\n"
   ]
  },
  {
   "cell_type": "markdown",
   "id": "d3c5c872",
   "metadata": {},
   "source": [
    "# Confusion Matrix"
   ]
  },
  {
   "cell_type": "code",
   "execution_count": 26,
   "id": "9fe3de0a",
   "metadata": {},
   "outputs": [
    {
     "name": "stdout",
     "output_type": "stream",
     "text": [
      "[[82  9]\n",
      " [10 15]] \n",
      "\n"
     ]
    }
   ],
   "source": [
    "print(confusion_matrix(y_test, y_pred), '\\n')\n",
    "\n",
    "\n"
   ]
  },
  {
   "cell_type": "markdown",
   "id": "9e986770",
   "metadata": {},
   "source": [
    "# 'Classification report'"
   ]
  },
  {
   "cell_type": "code",
   "execution_count": 27,
   "id": "6a284fa2",
   "metadata": {},
   "outputs": [
    {
     "name": "stdout",
     "output_type": "stream",
     "text": [
      "              precision    recall  f1-score   support\n",
      "\n",
      "           0       0.89      0.90      0.90        91\n",
      "           1       0.62      0.60      0.61        25\n",
      "\n",
      "    accuracy                           0.84       116\n",
      "   macro avg       0.76      0.75      0.75       116\n",
      "weighted avg       0.83      0.84      0.83       116\n",
      "\n"
     ]
    }
   ],
   "source": [
    "print(classification_report(y_test, y_pred))"
   ]
  },
  {
   "cell_type": "markdown",
   "id": "d6881d1c",
   "metadata": {},
   "source": [
    "# Textbased Classification Tree"
   ]
  },
  {
   "cell_type": "code",
   "execution_count": 28,
   "id": "f4e558dc",
   "metadata": {},
   "outputs": [
    {
     "name": "stdout",
     "output_type": "stream",
     "text": [
      "|--- price_raw <= 17885.00\n",
      "|   |--- ps_raw <= 161.50\n",
      "|   |   |--- price_raw <= 4749.50\n",
      "|   |   |   |--- class: 1\n",
      "|   |   |--- price_raw >  4749.50\n",
      "|   |   |   |--- class: 1\n",
      "|   |--- ps_raw >  161.50\n",
      "|   |   |--- price_raw <= 10900.00\n",
      "|   |   |   |--- class: 1\n",
      "|   |   |--- price_raw >  10900.00\n",
      "|   |   |   |--- class: 0\n",
      "|--- price_raw >  17885.00\n",
      "|   |--- year_raw <= 1998.50\n",
      "|   |   |--- ps_raw <= 140.00\n",
      "|   |   |   |--- class: 1\n",
      "|   |   |--- ps_raw >  140.00\n",
      "|   |   |   |--- class: 0\n",
      "|   |--- year_raw >  1998.50\n",
      "|   |   |--- ps_raw <= 163.50\n",
      "|   |   |   |--- class: 0\n",
      "|   |   |--- ps_raw >  163.50\n",
      "|   |   |   |--- class: 0\n",
      "\n"
     ]
    }
   ],
   "source": [
    "text_rep = tree.export_text(clf, \n",
    "                            feature_names=list(X_train.columns))\n",
    "print(text_rep)\n",
    "\n"
   ]
  },
  {
   "cell_type": "markdown",
   "id": "3ee19de1",
   "metadata": {},
   "source": [
    "# Classification Tree"
   ]
  },
  {
   "cell_type": "code",
   "execution_count": 29,
   "id": "2ac95e3e",
   "metadata": {},
   "outputs": [
    {
     "data": {
      "image/png": "[encoded data removed]",
      "text/plain": [
       "<Figure size 1400x600 with 1 Axes>"
      ]
     },
     "metadata": {},
     "output_type": "display_data"
    }
   ],
   "source": [
    "\n",
    "fig = plt.figure(figsize=(14,6))\n",
    "tree_plot = tree.plot_tree(clf, \n",
    "                   feature_names=list(X_train.columns),  \n",
    "                   class_names=['Handschaltung', 'Automat'],\n",
    "                   filled=True,\n",
    "                   fontsize=10,\n",
    "                   label='root')\n",
    "\n"
   ]
  },
  {
   "cell_type": "markdown",
   "id": "2d721e58",
   "metadata": {},
   "source": [
    "Cars with more ps\n"
   ]
  },
  {
   "cell_type": "markdown",
   "id": "fa6a1f3e",
   "metadata": {},
   "source": [
    "# Random forest classifier"
   ]
  },
  {
   "cell_type": "code",
   "execution_count": 30,
   "id": "397617eb",
   "metadata": {},
   "outputs": [
    {
     "name": "stdout",
     "output_type": "stream",
     "text": [
      "X2_train:\n",
      "     price_raw  fuel_raw  ps_raw  year_raw\n",
      "117      26900       0.0     170    2018.0\n",
      "710      14900       0.0     184    2011.0\n",
      "163      42900       0.0     313    2017.0\n",
      "460      25900       0.0     136    2017.0\n",
      "414      12980       1.0      99    2014.0 \n",
      "\n",
      "y2_train:\n",
      "117    0\n",
      "710    0\n",
      "163    0\n",
      "460    0\n",
      "414    0\n",
      "Name: gear_raw, dtype: uint8\n",
      "Predicted target variable (0 = not survived, 1 = survived)\n"
     ]
    },
    {
     "data": {
      "text/plain": [
       "array([0, 0, 1, 0, 0, 0, 0, 0, 0, 0, 0, 1, 0, 0, 0, 1, 0, 0, 0, 0, 0, 1,\n",
       "       0, 0, 0, 0, 0, 1, 1, 0, 0, 1, 0, 0, 0, 0, 0, 0, 0, 0, 0, 0, 0, 0,\n",
       "       0, 0, 0, 1, 0, 0, 0, 0, 0, 0, 0, 0, 0, 1, 0, 0, 0, 0, 0, 1, 0, 0,\n",
       "       0, 0, 1, 0, 0, 0, 0, 0, 0, 0, 1, 0, 0, 0, 0, 0, 0, 0, 0, 0, 0, 0,\n",
       "       0, 1, 0, 0, 1, 0, 0, 0, 1, 0, 0, 0, 0, 0, 0, 1, 0, 1, 1, 0, 0, 0,\n",
       "       0, 0, 0, 0, 1, 0], dtype=uint8)"
      ]
     },
     "execution_count": 30,
     "metadata": {},
     "output_type": "execute_result"
    }
   ],
   "source": [
    "# Create train and test samples\n",
    "X2_train, X2_test, y2_train, y2_test = train_test_split(df_model[[ 'price_raw',\n",
    "                                                                'fuel_raw',\n",
    "                                                                'ps_raw',\n",
    "                                                                'year_raw']], \n",
    "                                                        df_model['gear_raw'], \n",
    "                                                        test_size=0.20, \n",
    "                                                        random_state=42)\n",
    "\n",
    "# Show X2_train\n",
    "print('X2_train:')\n",
    "print(X2_train.head(), '\\n')\n",
    "\n",
    "# Show y2_train\n",
    "print('y2_train:')\n",
    "print(y2_train.head())\n",
    "# Initialize the random forest classifier\n",
    "rfc = RandomForestClassifier(random_state=20, max_depth=10)\n",
    "\n",
    "# Train the random forest classifier\n",
    "rfc = rfc.fit(X2_train, y2_train)\n",
    "\n",
    "# Predict the target variable (0 = not survived, 1 = survived)\n",
    "y_pred_rf = rfc.predict(X2_test)\n",
    "\n",
    "print('Predicted target variable (0 = not survived, 1 = survived)')\n",
    "y_pred_rf\n"
   ]
  },
  {
   "cell_type": "markdown",
   "id": "22ff3547",
   "metadata": {},
   "source": [
    "# Feature importance"
   ]
  },
  {
   "cell_type": "code",
   "execution_count": 31,
   "id": "2acba5bd",
   "metadata": {},
   "outputs": [
    {
     "name": "stdout",
     "output_type": "stream",
     "text": [
      "Index(['price_raw', 'ps_raw', 'year_raw', 'fuel_raw'], dtype='object')\n",
      "[0.50547434 0.29167823 0.17446415 0.02838327]\n"
     ]
    },
    {
     "data": {
      "text/plain": [
       "<AxesSubplot: ylabel='features'>"
      ]
     },
     "execution_count": 31,
     "metadata": {},
     "output_type": "execute_result"
    },
    {
     "data": {
      "image/png": "[encoded data removed]",
      "text/plain": [
       "<Figure size 600x300 with 1 Axes>"
      ]
     },
     "metadata": {},
     "output_type": "display_data"
    }
   ],
   "source": [
    "cols = X2_train.columns\n",
    "importances = rfc.feature_importances_\n",
    "std = np.std([tree.feature_importances_ for tree in rfc.estimators_], axis=0)\n",
    "indices = np.argsort(importances)[::-1]\n",
    "print( cols[indices] )\n",
    "print( importances[indices] )\n",
    "df_fi = pd.DataFrame({'features':cols,'importances': importances})\n",
    "df_fi.sort_values('importances', inplace=True)\n",
    "df_fi.plot(kind='barh', \n",
    "           y='importances', \n",
    "           x='features', \n",
    "           color='blue', \n",
    "           figsize=(6,3))\n",
    "\n"
   ]
  },
  {
   "cell_type": "markdown",
   "id": "ee680187",
   "metadata": {},
   "source": [
    "# Roc Curve and AOC"
   ]
  },
  {
   "cell_type": "code",
   "execution_count": 32,
   "id": "d06b54a0",
   "metadata": {},
   "outputs": [
    {
     "data": {
      "image/png": "[encoded data removed]",
      "text/plain": [
       "<Figure size 600x400 with 1 Axes>"
      ]
     },
     "metadata": {},
     "output_type": "display_data"
    }
   ],
   "source": [
    "plt.figure(figsize=(6,4))\n",
    "ax = plt.gca()\n",
    "rfc_disp = RocCurveDisplay.from_estimator(rfc, \n",
    "                                          X_test, \n",
    "                                          y_test, \n",
    "                                          ax=ax,\n",
    "                                          alpha=0.8,\n",
    "                                          c=\"darkblue\")\n",
    "plt.show()"
   ]
  },
  {
   "cell_type": "markdown",
   "id": "bf3829c3",
   "metadata": {},
   "source": [
    "# Create contingency table with the number of cars fueled by gas, diesel or electric versus price"
   ]
  },
  {
   "cell_type": "code",
   "execution_count": 33,
   "id": "0c015993",
   "metadata": {},
   "outputs": [],
   "source": [
    "from scipy.stats import chi2\n",
    "from scipy.stats import chi2_contingency\n",
    "\n",
    "df.drop(df[(df['fuel_raw'] == \"Erdgas (CNG) / Benzin\") ].index, inplace=True)\n",
    "df.drop(df[(df['fuel_raw'] == \"Mild-Hybrid Benzin/Elektro\") ].index, inplace=True)\n",
    "df.drop(df[(df['fuel_raw'] == \"Mild-Hybrid Diesel/Elektro\") ].index, inplace=True)\n",
    "df.drop(df[(df['fuel_raw'] == \"Plug-in-Hybrid Benzin/Elektro\") ].index, inplace=True)\n",
    "df.drop(df[(df['fuel_raw'] == \"Voll-Hybrid Benzin/Elektro\") ].index, inplace=True)\n",
    "df.drop(df[(df['fuel_raw'] == \"grau\") ].index, inplace=True)\n",
    "df.drop(df[(df['fuel_raw'] == \"rot\") ].index, inplace=True)\n",
    "df.drop(df[(df['fuel_raw'] == \"schwarz\") ].index, inplace=True)\n",
    "df.drop(df[(df['fuel_raw'] == \"weiss\") ].index, inplace=True)"
   ]
  },
  {
   "cell_type": "code",
   "execution_count": 34,
   "id": "70a3a247",
   "metadata": {},
   "outputs": [
    {
     "data": {
      "text/html": [
       "<div>\n",
       "<style scoped>\n",
       "    .dataframe tbody tr th:only-of-type {\n",
       "        vertical-align: middle;\n",
       "    }\n",
       "\n",
       "    .dataframe tbody tr th {\n",
       "        vertical-align: top;\n",
       "    }\n",
       "\n",
       "    .dataframe thead th {\n",
       "        text-align: right;\n",
       "    }\n",
       "</style>\n",
       "<table border=\"1\" class=\"dataframe\">\n",
       "  <thead>\n",
       "    <tr style=\"text-align: right;\">\n",
       "      <th></th>\n",
       "      <th>price_raw</th>\n",
       "      <th>price_cat</th>\n",
       "    </tr>\n",
       "  </thead>\n",
       "  <tbody>\n",
       "    <tr>\n",
       "      <th>2</th>\n",
       "      <td>29999</td>\n",
       "      <td>20000 - 29999</td>\n",
       "    </tr>\n",
       "    <tr>\n",
       "      <th>3</th>\n",
       "      <td>7800</td>\n",
       "      <td>5000 - 9999</td>\n",
       "    </tr>\n",
       "    <tr>\n",
       "      <th>4</th>\n",
       "      <td>24500</td>\n",
       "      <td>20000 - 29999</td>\n",
       "    </tr>\n",
       "    <tr>\n",
       "      <th>5</th>\n",
       "      <td>37500</td>\n",
       "      <td>30000-  39999</td>\n",
       "    </tr>\n",
       "    <tr>\n",
       "      <th>6</th>\n",
       "      <td>17500</td>\n",
       "      <td>15000 - 19999</td>\n",
       "    </tr>\n",
       "    <tr>\n",
       "      <th>8</th>\n",
       "      <td>2900</td>\n",
       "      <td>0 - 4999</td>\n",
       "    </tr>\n",
       "    <tr>\n",
       "      <th>10</th>\n",
       "      <td>42730</td>\n",
       "      <td>40000 - 59999</td>\n",
       "    </tr>\n",
       "    <tr>\n",
       "      <th>15</th>\n",
       "      <td>20900</td>\n",
       "      <td>20000 - 29999</td>\n",
       "    </tr>\n",
       "    <tr>\n",
       "      <th>16</th>\n",
       "      <td>18900</td>\n",
       "      <td>15000 - 19999</td>\n",
       "    </tr>\n",
       "    <tr>\n",
       "      <th>17</th>\n",
       "      <td>17900</td>\n",
       "      <td>15000 - 19999</td>\n",
       "    </tr>\n",
       "  </tbody>\n",
       "</table>\n",
       "</div>"
      ],
      "text/plain": [
       "    price_raw      price_cat\n",
       "2       29999  20000 - 29999\n",
       "3        7800    5000 - 9999\n",
       "4       24500  20000 - 29999\n",
       "5       37500  30000-  39999\n",
       "6       17500  15000 - 19999\n",
       "8        2900       0 - 4999\n",
       "10      42730  40000 - 59999\n",
       "15      20900  20000 - 29999\n",
       "16      18900  15000 - 19999\n",
       "17      17900  15000 - 19999"
      ]
     },
     "execution_count": 34,
     "metadata": {},
     "output_type": "execute_result"
    }
   ],
   "source": [
    "# Create new categorical variable 'price_cat'\n",
    "# Create labels\n",
    "labels = ['0 - 4999', '5000 - 9999', '10000 - 14999', '15000 - 19999', '20000 - 29999', '30000-  39999', '40000 - 59999', '60000 - 79999', '>80000']\n",
    "\n",
    "# Create new categorical variable\n",
    "df[\"price_cat\"] = pd.cut(df['price_raw'], bins=[0, 5000, 10000, 15000, 20000, 30000, 40000, 60000, 80000, 170000], labels=labels)\n",
    "\n",
    "# Check values\n",
    "df[['price_raw', 'price_cat']].head(10)"
   ]
  },
  {
   "cell_type": "code",
   "execution_count": 35,
   "id": "ae9c5e07",
   "metadata": {},
   "outputs": [
    {
     "data": {
      "text/html": [
       "<div>\n",
       "<style scoped>\n",
       "    .dataframe tbody tr th:only-of-type {\n",
       "        vertical-align: middle;\n",
       "    }\n",
       "\n",
       "    .dataframe tbody tr th {\n",
       "        vertical-align: top;\n",
       "    }\n",
       "\n",
       "    .dataframe thead tr th {\n",
       "        text-align: left;\n",
       "    }\n",
       "\n",
       "    .dataframe thead tr:last-of-type th {\n",
       "        text-align: right;\n",
       "    }\n",
       "</style>\n",
       "<table border=\"1\" class=\"dataframe\">\n",
       "  <thead>\n",
       "    <tr>\n",
       "      <th></th>\n",
       "      <th colspan=\"9\" halign=\"left\">web-scraper-order</th>\n",
       "    </tr>\n",
       "    <tr>\n",
       "      <th>price_cat</th>\n",
       "      <th>0 - 4999</th>\n",
       "      <th>5000 - 9999</th>\n",
       "      <th>10000 - 14999</th>\n",
       "      <th>15000 - 19999</th>\n",
       "      <th>20000 - 29999</th>\n",
       "      <th>30000-  39999</th>\n",
       "      <th>40000 - 59999</th>\n",
       "      <th>60000 - 79999</th>\n",
       "      <th>&gt;80000</th>\n",
       "    </tr>\n",
       "    <tr>\n",
       "      <th>fuel_raw</th>\n",
       "      <th></th>\n",
       "      <th></th>\n",
       "      <th></th>\n",
       "      <th></th>\n",
       "      <th></th>\n",
       "      <th></th>\n",
       "      <th></th>\n",
       "      <th></th>\n",
       "      <th></th>\n",
       "    </tr>\n",
       "  </thead>\n",
       "  <tbody>\n",
       "    <tr>\n",
       "      <th>Benzin</th>\n",
       "      <td>15</td>\n",
       "      <td>28</td>\n",
       "      <td>30</td>\n",
       "      <td>38</td>\n",
       "      <td>77</td>\n",
       "      <td>47</td>\n",
       "      <td>56</td>\n",
       "      <td>21</td>\n",
       "      <td>25</td>\n",
       "    </tr>\n",
       "    <tr>\n",
       "      <th>Diesel</th>\n",
       "      <td>4</td>\n",
       "      <td>11</td>\n",
       "      <td>17</td>\n",
       "      <td>23</td>\n",
       "      <td>51</td>\n",
       "      <td>34</td>\n",
       "      <td>32</td>\n",
       "      <td>17</td>\n",
       "      <td>5</td>\n",
       "    </tr>\n",
       "    <tr>\n",
       "      <th>Elektro</th>\n",
       "      <td>0</td>\n",
       "      <td>0</td>\n",
       "      <td>0</td>\n",
       "      <td>0</td>\n",
       "      <td>3</td>\n",
       "      <td>5</td>\n",
       "      <td>7</td>\n",
       "      <td>12</td>\n",
       "      <td>3</td>\n",
       "    </tr>\n",
       "  </tbody>\n",
       "</table>\n",
       "</div>"
      ],
      "text/plain": [
       "          web-scraper-order                                          \\\n",
       "price_cat          0 - 4999 5000 - 9999 10000 - 14999 15000 - 19999   \n",
       "fuel_raw                                                              \n",
       "Benzin                   15          28            30            38   \n",
       "Diesel                    4          11            17            23   \n",
       "Elektro                   0           0             0             0   \n",
       "\n",
       "                                                                          \n",
       "price_cat 20000 - 29999 30000-  39999 40000 - 59999 60000 - 79999 >80000  \n",
       "fuel_raw                                                                  \n",
       "Benzin               77            47            56            21     25  \n",
       "Diesel               51            34            32            17      5  \n",
       "Elektro               3             5             7            12      3  "
      ]
     },
     "execution_count": 35,
     "metadata": {},
     "output_type": "execute_result"
    }
   ],
   "source": [
    "# Contingency table (numbers in the table are apartments)\n",
    "tab = pd.pivot_table(df[['web-scraper-order','fuel_raw', 'price_cat']],\n",
    "                     index=['fuel_raw'],\n",
    "                     columns=['price_cat'], \n",
    "                     aggfunc='count')\n",
    "tab"
   ]
  },
  {
   "cell_type": "code",
   "execution_count": 36,
   "id": "c5cfa832",
   "metadata": {},
   "outputs": [
    {
     "data": {
      "text/html": [
       "<div>\n",
       "<style scoped>\n",
       "    .dataframe tbody tr th:only-of-type {\n",
       "        vertical-align: middle;\n",
       "    }\n",
       "\n",
       "    .dataframe tbody tr th {\n",
       "        vertical-align: top;\n",
       "    }\n",
       "\n",
       "    .dataframe thead tr th {\n",
       "        text-align: left;\n",
       "    }\n",
       "\n",
       "    .dataframe thead tr:last-of-type th {\n",
       "        text-align: right;\n",
       "    }\n",
       "</style>\n",
       "<table border=\"1\" class=\"dataframe\">\n",
       "  <thead>\n",
       "    <tr>\n",
       "      <th></th>\n",
       "      <th colspan=\"4\" halign=\"left\">web-scraper-order</th>\n",
       "    </tr>\n",
       "    <tr>\n",
       "      <th>price_cat</th>\n",
       "      <th>15000 - 19999</th>\n",
       "      <th>20000 - 29999</th>\n",
       "      <th>30000-  39999</th>\n",
       "      <th>40000 - 59999</th>\n",
       "    </tr>\n",
       "    <tr>\n",
       "      <th>fuel_raw</th>\n",
       "      <th></th>\n",
       "      <th></th>\n",
       "      <th></th>\n",
       "      <th></th>\n",
       "    </tr>\n",
       "  </thead>\n",
       "  <tbody>\n",
       "    <tr>\n",
       "      <th>Benzin</th>\n",
       "      <td>38</td>\n",
       "      <td>77</td>\n",
       "      <td>47</td>\n",
       "      <td>56</td>\n",
       "    </tr>\n",
       "    <tr>\n",
       "      <th>Diesel</th>\n",
       "      <td>23</td>\n",
       "      <td>51</td>\n",
       "      <td>34</td>\n",
       "      <td>32</td>\n",
       "    </tr>\n",
       "    <tr>\n",
       "      <th>Elektro</th>\n",
       "      <td>0</td>\n",
       "      <td>3</td>\n",
       "      <td>5</td>\n",
       "      <td>7</td>\n",
       "    </tr>\n",
       "  </tbody>\n",
       "</table>\n",
       "</div>"
      ],
      "text/plain": [
       "          web-scraper-order                                          \n",
       "price_cat     15000 - 19999 20000 - 29999 30000-  39999 40000 - 59999\n",
       "fuel_raw                                                             \n",
       "Benzin                   38            77            47            56\n",
       "Diesel                   23            51            34            32\n",
       "Elektro                   0             3             5             7"
      ]
     },
     "execution_count": 36,
     "metadata": {},
     "output_type": "execute_result"
    }
   ],
   "source": [
    "#Select part of the contingency table\n",
    "tab_sub = tab.iloc[0:3,3:7]\n",
    "tab_sub"
   ]
  },
  {
   "cell_type": "markdown",
   "id": "1e5124df",
   "metadata": {},
   "source": [
    "# Perform Chi-square test"
   ]
  },
  {
   "cell_type": "code",
   "execution_count": 37,
   "id": "feb55ff8",
   "metadata": {},
   "outputs": [
    {
     "name": "stdout",
     "output_type": "stream",
     "text": [
      "Expected frequencies: \n",
      " [[35.6515 76.563  50.2627 55.5228]\n",
      " [22.8954 49.1689 32.2788 35.6568]\n",
      " [ 2.4531  5.2681  3.4584  3.8204]] \n",
      "\n",
      "Critical value: 12.5916 \n",
      "\n",
      "Test statistic: 7.6716 \n",
      "\n",
      "Degrees of freedom: 6 \n",
      "\n",
      "p-value: 0.2632\n"
     ]
    }
   ],
   "source": [
    "# 1-alpha\n",
    "prob = 0.95\n",
    "\n",
    "# Chi-squared test\n",
    "stat, p, dof, expected = chi2_contingency(tab_sub)\n",
    "\n",
    "# Critical value\n",
    "critical = chi2.ppf(prob, dof)\n",
    "\n",
    "# Print results of the Chi-square test\n",
    "print('Expected frequencies:', '\\n', expected.round(4), '\\n')\n",
    "print('Critical value:', critical.round(4), '\\n')\n",
    "print('Test statistic:', stat.round(4), '\\n')\n",
    "print('Degrees of freedom:', dof, '\\n')\n",
    "print(f'p-value: {p:.4f}')"
   ]
  },
  {
   "cell_type": "code",
   "execution_count": 38,
   "id": "783ac541",
   "metadata": {},
   "outputs": [],
   "source": [
    "# Evaluation:\n",
    "# Because the test statistic is smaller than the critical value and the p-value is larger than 0.05, \n",
    "# we cannot reject the null hypothesis, i.e. there is no statistically siginificant (5% significance-level) difference \n",
    "# in the number of apartments on the market for the selected area- and price categories. \n",
    "#This means that the observed difference could have occurred by chance and is not statistically reliable."
   ]
  }
 ],
 "metadata": {
  "kernelspec": {
   "display_name": "Python 3 (ipykernel)",
   "language": "python",
   "name": "python3"
  },
  "language_info": {
   "codemirror_mode": {
    "name": "ipython",
    "version": 3
   },
   "file_extension": ".py",
   "mimetype": "text/x-python",
   "name": "python",
   "nbconvert_exporter": "python",
   "pygments_lexer": "ipython3",
   "version": "3.9.13"
  }
 },
 "nbformat": 4,
 "nbformat_minor": 5
}
