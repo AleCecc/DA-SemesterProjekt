{
 "cells": [
  {
   "cell_type": "code",
   "execution_count": 2,
   "id": "c973e10c",
   "metadata": {},
   "outputs": [
    {
     "name": "stdout",
     "output_type": "stream",
     "text": [
      "    web-scraper-order                            web-scraper-start-url  \\\n",
      "0       1670677435-91  https://www.autolina.ch/carList?region=ZHpn=10.   \n",
      "1       1670677435-92  https://www.autolina.ch/carList?region=ZHpn=10.   \n",
      "2       1670677435-93  https://www.autolina.ch/carList?region=ZHpn=10.   \n",
      "3       1670677435-94  https://www.autolina.ch/carList?region=ZHpn=10.   \n",
      "4       1670677435-95  https://www.autolina.ch/carList?region=ZHpn=10.   \n",
      "..                ...                                              ...   \n",
      "145    1670677473-236   https://www.autolina.ch/carList?region=ZHpn=1.   \n",
      "146    1670677473-237   https://www.autolina.ch/carList?region=ZHpn=1.   \n",
      "147    1670677473-238   https://www.autolina.ch/carList?region=ZHpn=1.   \n",
      "148    1670677473-239   https://www.autolina.ch/carList?region=ZHpn=1.   \n",
      "149    1670677473-240   https://www.autolina.ch/carList?region=ZHpn=1.   \n",
      "\n",
      "         brand_raw  year_raw   km_raw  ps_raw                place_raw  \n",
      "0             FORD      2021   11'510     185     8404 Winterthur / ZH  \n",
      "1            SKODA      2018   52'000     280     4114 Hofstetten / SO  \n",
      "2               VW      2018   43'000     150          8610 Uster / ZH  \n",
      "3               VW      2010  118'000     240         8180 Bülach / ZH  \n",
      "4             FORD      2011  202'000      85  8165 Schöfflisdorf / ZH  \n",
      "..             ...       ...      ...     ...                      ...  \n",
      "145  MERCEDES-BENZ      2017   73'500     184    1028 Préverenges / VD  \n",
      "146           AUDI      2017   83'000     180      1066 Epalinges / VD  \n",
      "147           AUDI      2018   72'500     204        1845 Noville / VD  \n",
      "148          TESLA      2015  138'000     387           5312 Döttingen  \n",
      "149             VW      2015  128'000     230   562 Bremgarten AG / AG  \n",
      "\n",
      "[150 rows x 7 columns]\n"
     ]
    },
    {
     "data": {
      "text/plain": [
       "web-scraper-order        object\n",
       "web-scraper-start-url    object\n",
       "brand_raw                object\n",
       "year_raw                  int64\n",
       "km_raw                   object\n",
       "ps_raw                    int64\n",
       "place_raw                object\n",
       "dtype: object"
      ]
     },
     "execution_count": 2,
     "metadata": {},
     "output_type": "execute_result"
    }
   ],
   "source": [
    "# Libraries\n",
    "import os\n",
    "import re\n",
    "import time\n",
    "import fnmatch\n",
    "import numpy as np\n",
    "import pandas as pd\n",
    "\n",
    "df = pd.read_csv('zurich.csv', sep=',', encoding='utf-8')\n",
    "print(df)\n",
    "df.dtypes"
   ]
  },
  {
   "cell_type": "code",
   "execution_count": null,
   "id": "7971c3c0",
   "metadata": {},
   "outputs": [],
   "source": [
    "#De Mario isch en Elefant"
   ]
  },
  {
   "cell_type": "code",
   "execution_count": null,
   "id": "a43a67c0",
   "metadata": {},
   "outputs": [],
   "source": []
  },
  {
   "cell_type": "code",
   "execution_count": null,
   "id": "8d021361",
   "metadata": {},
   "outputs": [],
   "source": []
  },
  {
   "cell_type": "code",
   "execution_count": null,
   "id": "8397a221",
   "metadata": {},
   "outputs": [],
   "source": []
  }
 ],
 "metadata": {
  "kernelspec": {
   "display_name": "Python 3 (ipykernel)",
   "language": "python",
   "name": "python3"
  },
  "language_info": {
   "codemirror_mode": {
    "name": "ipython",
    "version": 3
   },
   "file_extension": ".py",
   "mimetype": "text/x-python",
   "name": "python",
   "nbconvert_exporter": "python",
   "pygments_lexer": "ipython3",
   "version": "3.9.7"
  }
 },
 "nbformat": 4,
 "nbformat_minor": 5
}
